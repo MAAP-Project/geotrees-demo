{
 "cells": [
  {
   "cell_type": "markdown",
   "id": "56a301bb-74ef-4275-9c3d-419832f38297",
   "metadata": {},
   "source": [
    "# Big EO-data Visualization in Browser Notebooks\n",
    "\n",
    "Authors: \n",
    "1. Dr. Rajat Shinde (rajat.shinde@uah.edu) - NASA IMPACT/University of Alabama in Huntsville\n",
    "2. Dr. Alex Mandel (alex@developmentseed.org) - Development Seed\n",
    "3. Chuck Daniels (chuck@developmentseed.org) - Development Seed\n",
    "\n",
    "Acknowledgments:\n",
    "NASA-ESA Multimission Algorithm and Analysis Platform (MAAP) Science Working Group\n",
    "1. Dr. Laura Duncanson - University of Maryland\n",
    "2. Dr. David Minor - University of Maryland\n",
    "3. Dr. Neha Hunka - University of Maryland\n",
    "4. Paromita Basak - University of Maryland\n",
    "\n",
    "Additional Support:\n",
    "1. Jamison French - Development Seed\n",
    "2. Sheyenne Kirkland - Development Seed\n",
    "3. Dr. Brian M. Freitag - NASA \n",
    "4. Kyle Barron (Lonboard - kyle@developmentseed.org) - Development Seed\n",
    "5. Sanjay Bhangar (NotebookSharing.space) - Development Seed\n",
    "6. Yuvi Panda - 2i2c.org\n",
    "\n",
    "This presentation illustrates processing and visualizing EO data - Cloud-Optimized GeoTIFFs (COGs) and Cloud-Optimized Point Clouds (COPCs) using [Lonboard](https://developmentseed.org/lonboard/latest/). Lonboard is capable of visualizing big raster and vector datasets including widely used image formats such as COGs and LiDAR data files such as COPCs, LAS file formats.\n",
    "\n",
    "In this tutorial, Airborne LiDAR Scanning (ALS) based point cloud for Panama, Barro Colorado Island (BCI) is used for visualization along with the Above-ground Biomass (AGB) Estimate and [Meta's Canopy Height Model (CHM)](https://www.sciencedirect.com/science/article/pii/S003442572300439X?via%3Dihub) products. The BCI is an important Smithsonian Tropical Research Institute (STRI) research site for studying the tropical forests.  \n",
    "\n",
    "We created COGs for these products and use [TiTiler](https://developmentseed.org/titiler/) for dynamically serving tiles from the generated COGs for visualization. The point cloud represents normalized canopy cover heights generated from the raw point cloud data.\n",
    "\n",
    "Additional Resources:\n",
    "1. [Lonboard](https://developmentseed.org/lonboard/latest/)\n",
    "2. [TiTiler](https://developmentseed.org/titiler/)\n",
    "3. [Converting LiDAR LAS Files to Cloud-Optimized Point Clouds (COPCs)](https://guide.cloudnativegeo.org/copc/lidar-las-to-copc.html)\n",
    "4. [Introduction to Cloud-Optimized GeoTIFFs](https://guide.cloudnativegeo.org/cloud-optimized-geotiffs/intro.html)\n",
    "5. [PDAL](https://pdal.io/en/2.6.0/about.html#what-is-pdal)\n",
    "6. [Barro Colorado Island](https://stri.si.edu/facility/barro-colorado)\n",
    "\n",
    "\n",
    "### Installing Packages\n",
    "\n",
    "Install the required packages by executing the following commands in your conda environment. "
   ]
  },
  {
   "cell_type": "code",
   "execution_count": 2,
   "id": "a2b11faa-7ac0-41c6-b093-f8207a2e01d2",
   "metadata": {
    "tags": []
   },
   "outputs": [],
   "source": [
    "# conda install conda-forge::lonboard\n",
    "# conda install conda-forge::python-pdal"
   ]
  },
  {
   "cell_type": "markdown",
   "id": "ca356dcc-fbf6-497c-9575-f6bcb677d254",
   "metadata": {},
   "source": [
    "### Importing Packages\n",
    "\n",
    "We import the required packages for this tutorial."
   ]
  },
  {
   "cell_type": "code",
   "execution_count": null,
   "id": "19162c1a-c8a6-4f56-bba5-e921e62b2477",
   "metadata": {
    "tags": []
   },
   "outputs": [],
   "source": [
    "%%capture\n",
    "\n",
    "import geopandas as gpd\n",
    "from lonboard import viz\n",
    "import pdal\n",
    "import pandas as pd\n",
    "import matplotlib.pyplot as plt\n",
    "import numpy as np\n",
    "from lonboard import Map, BitmapLayer, BitmapTileLayer, PointCloudLayer, PolygonLayer\n",
    "from lonboard.colormap import apply_continuous_cmap\n",
    "import httpx\n",
    "import json\n",
    "from palettable.colorbrewer.sequential import YlGnBu_7, Greens_3\n",
    "from palettable.colorbrewer.diverging import Spectral_9\n",
    "from matplotlib.colors import Normalize"
   ]
  },
  {
   "cell_type": "markdown",
   "id": "cae064e4-d351-4dde-90dc-18d6e3f68bea",
   "metadata": {},
   "source": [
    "Next, we define the path to the ALS LiDAR file in COPC format to be visualized."
   ]
  },
  {
   "cell_type": "code",
   "execution_count": 2,
   "id": "9d0a2a44-b5ca-4ad3-b4af-479437b0b650",
   "metadata": {
    "tags": []
   },
   "outputs": [],
   "source": [
    "in_file = \"s3://maap-ops-workspace/shared/omshinde23/norm_chunk.copc.laz\""
   ]
  },
  {
   "cell_type": "code",
   "execution_count": 3,
   "id": "865dd6a7-ddb5-411a-abdc-b06d98b53661",
   "metadata": {
    "tags": []
   },
   "outputs": [],
   "source": [
    "# Set AWS region for accessing file\n",
    "\n",
    "REGION = \"us-west-2\"\n",
    "!aws configure set default.region $REGION"
   ]
  },
  {
   "cell_type": "markdown",
   "id": "913f3d74-7cb7-45e2-a321-09e9fae9ace7",
   "metadata": {
    "tags": []
   },
   "source": [
    "### Reading the COPC file\n",
    "\n",
    "We read the COPC file using the PDAL python package. PDAL processes point cloud data by executing pipelines comprising of various operations (separated by `|` below). For more details, the readers are recommended to follow [Converting LiDAR LAS Files to Cloud-Optimized Point Clouds (COPCs)](https://guide.cloudnativegeo.org/copc/lidar-las-to-copc.html)."
   ]
  },
  {
   "cell_type": "code",
   "execution_count": 4,
   "id": "d86633d4-355a-4541-93e5-12a267afc8af",
   "metadata": {
    "tags": []
   },
   "outputs": [
    {
     "name": "stderr",
     "output_type": "stream",
     "text": [
      "Curl failure: Timeout was reached\n"
     ]
    },
    {
     "data": {
      "text/plain": [
       "71265473"
      ]
     },
     "execution_count": 4,
     "metadata": {},
     "output_type": "execute_result"
    }
   ],
   "source": [
    "# Read the file and get info\n",
    "\n",
    "info = (pdal.Reader.copc(filename=in_file) | pdal.Filter.info())\n",
    "\n",
    "info.execute()\n",
    "metadata = info.metadata\n",
    "\n",
    "# Get number of points in the COPC file\n",
    "metadata['metadata']['readers.copc'][\"count\"]"
   ]
  },
  {
   "cell_type": "code",
   "execution_count": 9,
   "id": "41ab5e3e-888f-4a7d-8beb-03311fb853ac",
   "metadata": {
    "tags": []
   },
   "outputs": [
    {
     "data": {
      "text/plain": [
       "{'bbox': {'maxx': 626799.99,\n",
       "  'maxy': 1012399.99,\n",
       "  'maxz': 55.03,\n",
       "  'minx': 625600,\n",
       "  'miny': 1011600,\n",
       "  'minz': -10.68},\n",
       " 'dimensions': 'X, Y, Z, Intensity, ReturnNumber, NumberOfReturns, ScanDirectionFlag, EdgeOfFlightLine, Classification, ScanAngleRank, UserData, PointSourceId, GpsTime, ScanChannel, ClassFlags, TargetThick, DevRatio, Zref',\n",
       " 'num_points': 71265473,\n",
       " 'schema': {'dimensions': [{'name': 'X', 'size': 8, 'type': 'floating'},\n",
       "   {'name': 'Y', 'size': 8, 'type': 'floating'},\n",
       "   {'name': 'Z', 'size': 8, 'type': 'floating'},\n",
       "   {'name': 'Intensity', 'size': 2, 'type': 'unsigned'},\n",
       "   {'name': 'ReturnNumber', 'size': 1, 'type': 'unsigned'},\n",
       "   {'name': 'NumberOfReturns', 'size': 1, 'type': 'unsigned'},\n",
       "   {'name': 'ScanDirectionFlag', 'size': 1, 'type': 'unsigned'},\n",
       "   {'name': 'EdgeOfFlightLine', 'size': 1, 'type': 'unsigned'},\n",
       "   {'name': 'Classification', 'size': 1, 'type': 'unsigned'},\n",
       "   {'name': 'ScanAngleRank', 'size': 4, 'type': 'floating'},\n",
       "   {'name': 'UserData', 'size': 1, 'type': 'unsigned'},\n",
       "   {'name': 'PointSourceId', 'size': 2, 'type': 'unsigned'},\n",
       "   {'name': 'GpsTime', 'size': 8, 'type': 'floating'},\n",
       "   {'name': 'ScanChannel', 'size': 1, 'type': 'unsigned'},\n",
       "   {'name': 'ClassFlags', 'size': 1, 'type': 'unsigned'},\n",
       "   {'name': 'TargetThick', 'size': 8, 'type': 'floating'},\n",
       "   {'name': 'DevRatio', 'size': 8, 'type': 'floating'},\n",
       "   {'name': 'Zref', 'size': 8, 'type': 'floating'}]},\n",
       " 'srs': {'compoundwkt': 'PROJCS[\"WGS 84 / WGS 84 / UTM 17N\",GEOGCS[\"WGS 84\",DATUM[\"WGS_1984\",SPHEROID[\"WGS 84\",6378137,298.257223563]],PRIMEM[\"Greenwich\",0],UNIT[\"degree\",0.0174532925199433,AUTHORITY[\"EPSG\",\"9122\"]],AUTHORITY[\"EPSG\",\"4326\"]],PROJECTION[\"Transverse_Mercator\"],PARAMETER[\"latitude_of_origin\",0],PARAMETER[\"central_meridian\",-81],PARAMETER[\"scale_factor\",0.9996],PARAMETER[\"false_easting\",500000],PARAMETER[\"false_northing\",0],UNIT[\"metre\",1],AXIS[\"Easting\",EAST],AXIS[\"Northing\",NORTH],AUTHORITY[\"EPSG\",\"32617\"]]',\n",
       "  'horizontal': 'PROJCS[\"WGS 84 / WGS 84 / UTM 17N\",GEOGCS[\"WGS 84\",DATUM[\"WGS_1984\",SPHEROID[\"WGS 84\",6378137,298.257223563]],PRIMEM[\"Greenwich\",0],UNIT[\"degree\",0.0174532925199433,AUTHORITY[\"EPSG\",\"9122\"]],AUTHORITY[\"EPSG\",\"4326\"]],PROJECTION[\"Transverse_Mercator\"],PARAMETER[\"latitude_of_origin\",0],PARAMETER[\"central_meridian\",-81],PARAMETER[\"scale_factor\",0.9996],PARAMETER[\"false_easting\",500000],PARAMETER[\"false_northing\",0],UNIT[\"metre\",1],AXIS[\"Easting\",EAST],AXIS[\"Northing\",NORTH],AUTHORITY[\"EPSG\",\"32617\"]]',\n",
       "  'isgeocentric': False,\n",
       "  'isgeographic': False,\n",
       "  'json': {'type': 'ProjectedCRS',\n",
       "   'name': 'WGS 84 / WGS 84 / UTM 17N',\n",
       "   'base_crs': {'name': 'WGS 84',\n",
       "    'datum': {'type': 'GeodeticReferenceFrame',\n",
       "     'name': 'World Geodetic System 1984',\n",
       "     'ellipsoid': {'name': 'WGS 84',\n",
       "      'semi_major_axis': 6378137,\n",
       "      'inverse_flattening': 298.257223563}},\n",
       "    'coordinate_system': {'subtype': 'ellipsoidal',\n",
       "     'axis': [{'name': 'Geodetic latitude',\n",
       "       'abbreviation': 'Lat',\n",
       "       'direction': 'north',\n",
       "       'unit': 'degree'},\n",
       "      {'name': 'Geodetic longitude',\n",
       "       'abbreviation': 'Lon',\n",
       "       'direction': 'east',\n",
       "       'unit': 'degree'}]},\n",
       "    'id': {'authority': 'EPSG', 'code': 4326}},\n",
       "   'conversion': {'name': 'UTM zone 17N',\n",
       "    'method': {'name': 'Transverse Mercator',\n",
       "     'id': {'authority': 'EPSG', 'code': 9807}},\n",
       "    'parameters': [{'name': 'Latitude of natural origin',\n",
       "      'value': 0,\n",
       "      'unit': 'degree',\n",
       "      'id': {'authority': 'EPSG', 'code': 8801}},\n",
       "     {'name': 'Longitude of natural origin',\n",
       "      'value': -81,\n",
       "      'unit': 'degree',\n",
       "      'id': {'authority': 'EPSG', 'code': 8802}},\n",
       "     {'name': 'Scale factor at natural origin',\n",
       "      'value': 0.9996,\n",
       "      'unit': 'unity',\n",
       "      'id': {'authority': 'EPSG', 'code': 8805}},\n",
       "     {'name': 'False easting',\n",
       "      'value': 500000,\n",
       "      'unit': 'metre',\n",
       "      'id': {'authority': 'EPSG', 'code': 8806}},\n",
       "     {'name': 'False northing',\n",
       "      'value': 0,\n",
       "      'unit': 'metre',\n",
       "      'id': {'authority': 'EPSG', 'code': 8807}}]},\n",
       "   'coordinate_system': {'subtype': 'Cartesian',\n",
       "    'axis': [{'name': 'Easting',\n",
       "      'abbreviation': '',\n",
       "      'direction': 'east',\n",
       "      'unit': 'metre'},\n",
       "     {'name': 'Northing',\n",
       "      'abbreviation': '',\n",
       "      'direction': 'north',\n",
       "      'unit': 'metre'}]},\n",
       "   'id': {'authority': 'EPSG', 'code': 32617}},\n",
       "  'prettycompoundwkt': 'PROJCS[\"WGS 84 / WGS 84 / UTM 17N\",\\n    GEOGCS[\"WGS 84\",\\n        DATUM[\"WGS_1984\",\\n            SPHEROID[\"WGS 84\",6378137,298.257223563]],\\n        PRIMEM[\"Greenwich\",0],\\n        UNIT[\"degree\",0.0174532925199433,\\n            AUTHORITY[\"EPSG\",\"9122\"]],\\n        AUTHORITY[\"EPSG\",\"4326\"]],\\n    PROJECTION[\"Transverse_Mercator\"],\\n    PARAMETER[\"latitude_of_origin\",0],\\n    PARAMETER[\"central_meridian\",-81],\\n    PARAMETER[\"scale_factor\",0.9996],\\n    PARAMETER[\"false_easting\",500000],\\n    PARAMETER[\"false_northing\",0],\\n    UNIT[\"metre\",1],\\n    AXIS[\"Easting\",EAST],\\n    AXIS[\"Northing\",NORTH],\\n    AUTHORITY[\"EPSG\",\"32617\"]]',\n",
       "  'prettywkt': 'PROJCS[\"WGS 84 / WGS 84 / UTM 17N\",\\n    GEOGCS[\"WGS 84\",\\n        DATUM[\"WGS_1984\",\\n            SPHEROID[\"WGS 84\",6378137,298.257223563]],\\n        PRIMEM[\"Greenwich\",0],\\n        UNIT[\"degree\",0.0174532925199433,\\n            AUTHORITY[\"EPSG\",\"9122\"]],\\n        AUTHORITY[\"EPSG\",\"4326\"]],\\n    PROJECTION[\"Transverse_Mercator\"],\\n    PARAMETER[\"latitude_of_origin\",0],\\n    PARAMETER[\"central_meridian\",-81],\\n    PARAMETER[\"scale_factor\",0.9996],\\n    PARAMETER[\"false_easting\",500000],\\n    PARAMETER[\"false_northing\",0],\\n    UNIT[\"metre\",1],\\n    AXIS[\"Easting\",EAST],\\n    AXIS[\"Northing\",NORTH],\\n    AUTHORITY[\"EPSG\",\"32617\"]]',\n",
       "  'proj4': '+proj=utm +zone=17 +datum=WGS84 +units=m +no_defs',\n",
       "  'units': {'horizontal': 'metre', 'vertical': ''},\n",
       "  'vertical': '',\n",
       "  'wkt': 'PROJCS[\"WGS 84 / WGS 84 / UTM 17N\",GEOGCS[\"WGS 84\",DATUM[\"WGS_1984\",SPHEROID[\"WGS 84\",6378137,298.257223563]],PRIMEM[\"Greenwich\",0],UNIT[\"degree\",0.0174532925199433,AUTHORITY[\"EPSG\",\"9122\"]],AUTHORITY[\"EPSG\",\"4326\"]],PROJECTION[\"Transverse_Mercator\"],PARAMETER[\"latitude_of_origin\",0],PARAMETER[\"central_meridian\",-81],PARAMETER[\"scale_factor\",0.9996],PARAMETER[\"false_easting\",500000],PARAMETER[\"false_northing\",0],UNIT[\"metre\",1],AXIS[\"Easting\",EAST],AXIS[\"Northing\",NORTH],AUTHORITY[\"EPSG\",\"32617\"]]'}}"
      ]
     },
     "execution_count": 9,
     "metadata": {},
     "output_type": "execute_result"
    }
   ],
   "source": [
    "metadata[\"metadata\"][\"filters.info\"]"
   ]
  },
  {
   "cell_type": "markdown",
   "id": "6bed7d41-18df-41cd-902b-cf83a4105d8f",
   "metadata": {},
   "source": [
    "### Subsetting based on a Bounding box\n",
    "\n",
    "Also, we crop a subset of points by using a spatial filter based on `x` and `y` coordinates, thus reducing the number of points for visualization to save memory."
   ]
  },
  {
   "cell_type": "code",
   "execution_count": 10,
   "id": "c9476034-8b95-40e8-bf46-88fc58b4e773",
   "metadata": {
    "tags": []
   },
   "outputs": [
    {
     "data": {
      "text/plain": [
       "'([626124.995,626274.995],[1011924.995,1012074.995],[-9999,9999])'"
      ]
     },
     "execution_count": 10,
     "metadata": {},
     "output_type": "execute_result"
    }
   ],
   "source": [
    "minx = metadata['metadata']['filters.info']['bbox']['minx']\n",
    "maxx = metadata['metadata']['filters.info']['bbox']['maxx']\n",
    "miny = metadata['metadata']['filters.info']['bbox']['miny']\n",
    "maxy = metadata['metadata']['filters.info']['bbox']['maxy']\n",
    "\n",
    "# Calculate the center point\n",
    "center_x = (minx + maxx) / 2\n",
    "center_y = (miny + maxy) / 2\n",
    "\n",
    "# Define the distance (e.g., 150 units)\n",
    "distance = 150\n",
    "\n",
    "# Define the new bounding box\n",
    "new_minx = center_x - distance / 2\n",
    "new_maxx = center_x + distance / 2\n",
    "new_miny = center_y - distance / 2\n",
    "new_maxy = center_y + distance / 2\n",
    "\n",
    "# Create the bounding box string\n",
    "bounds = f\"([{new_minx},{new_maxx}],[{new_miny},{new_maxy}],[-9999,9999])\"\n",
    "bounds"
   ]
  },
  {
   "cell_type": "code",
   "execution_count": 11,
   "id": "8c03f3fb-b97e-4b2d-b4fe-fab3fe378d49",
   "metadata": {
    "tags": []
   },
   "outputs": [],
   "source": [
    "del metadata"
   ]
  },
  {
   "cell_type": "code",
   "execution_count": 12,
   "id": "8344e336-a75b-4a44-a10b-7d357868c7cb",
   "metadata": {
    "tags": []
   },
   "outputs": [
    {
     "name": "stderr",
     "output_type": "stream",
     "text": [
      "Curl failure: Timeout was reached\n"
     ]
    },
    {
     "data": {
      "text/plain": [
       "1654874"
      ]
     },
     "execution_count": 12,
     "metadata": {},
     "output_type": "execute_result"
    }
   ],
   "source": [
    "# Crop the LiDAR file based on spatial bounds using filter.crop \n",
    "\n",
    "pipeline = (pdal.Reader.copc(filename=in_file) | pdal.Filter.crop(bounds=bounds))\n",
    "pipeline.execute()"
   ]
  },
  {
   "cell_type": "markdown",
   "id": "1b39a11c-04a3-4b77-a334-3dccc78e72d5",
   "metadata": {},
   "source": [
    "### Getting the Data Values\n",
    "\n",
    "The data values from an executed pipeline are retrieved by calling the `arrays` method."
   ]
  },
  {
   "cell_type": "code",
   "execution_count": 13,
   "id": "b09e11b4-26bb-4fe1-92c9-11eedf48e85a",
   "metadata": {
    "tags": []
   },
   "outputs": [],
   "source": [
    "# Getting array values\n",
    "arr_values = pipeline.arrays"
   ]
  },
  {
   "cell_type": "markdown",
   "id": "8a46dca2-832a-49c1-b3a7-c1ec4506f603",
   "metadata": {},
   "source": [
    "### Creating Geo-dataframe"
   ]
  },
  {
   "cell_type": "markdown",
   "id": "29e00637-bfaa-4a22-a526-ed101c768531",
   "metadata": {
    "tags": []
   },
   "source": [
    "Now, we will create a data frame followed by a Geo-dataframe based on the data values. Lonboard requires the vector data as Geo-dataframe for visualization."
   ]
  },
  {
   "cell_type": "code",
   "execution_count": 14,
   "id": "733b22c3-111c-4fbe-b36f-720fe3b8db18",
   "metadata": {
    "tags": []
   },
   "outputs": [],
   "source": [
    "df = pd.DataFrame(arr_values[0])"
   ]
  },
  {
   "cell_type": "code",
   "execution_count": 15,
   "id": "a96efb74-e7d5-40de-bc48-9603b4aa692d",
   "metadata": {},
   "outputs": [],
   "source": [
    "gdf = gpd.GeoDataFrame(df, geometry=gpd.points_from_xy(df.X, df.Y, z=df.Z), crs=\"32617\")"
   ]
  },
  {
   "cell_type": "markdown",
   "id": "f7a31ae5-1af1-44d9-a3c7-457efaf1ed29",
   "metadata": {},
   "source": [
    "Also, Lonboard requires the Geo-dataframe to have its Spatial Reference System (SRS) as World Geodetic System 1984 (WGS 84). So, we re-project the geo-dataframe to `EPSG 4326`, which is the unique reference code for WGS 84."
   ]
  },
  {
   "cell_type": "code",
   "execution_count": 16,
   "id": "2aee6e91-e91c-47e5-8ff7-019a8e40c9e9",
   "metadata": {
    "tags": []
   },
   "outputs": [
    {
     "data": {
      "text/html": [
       "<div>\n",
       "<style scoped>\n",
       "    .dataframe tbody tr th:only-of-type {\n",
       "        vertical-align: middle;\n",
       "    }\n",
       "\n",
       "    .dataframe tbody tr th {\n",
       "        vertical-align: top;\n",
       "    }\n",
       "\n",
       "    .dataframe thead th {\n",
       "        text-align: right;\n",
       "    }\n",
       "</style>\n",
       "<table border=\"1\" class=\"dataframe\">\n",
       "  <thead>\n",
       "    <tr style=\"text-align: right;\">\n",
       "      <th></th>\n",
       "      <th>X</th>\n",
       "      <th>Y</th>\n",
       "      <th>Z</th>\n",
       "      <th>Intensity</th>\n",
       "      <th>ReturnNumber</th>\n",
       "      <th>NumberOfReturns</th>\n",
       "      <th>ScanDirectionFlag</th>\n",
       "      <th>EdgeOfFlightLine</th>\n",
       "      <th>Classification</th>\n",
       "      <th>ScanAngleRank</th>\n",
       "      <th>UserData</th>\n",
       "      <th>PointSourceId</th>\n",
       "      <th>GpsTime</th>\n",
       "      <th>ScanChannel</th>\n",
       "      <th>ClassFlags</th>\n",
       "      <th>TargetThick</th>\n",
       "      <th>DevRatio</th>\n",
       "      <th>Zref</th>\n",
       "      <th>geometry</th>\n",
       "    </tr>\n",
       "  </thead>\n",
       "  <tbody>\n",
       "    <tr>\n",
       "      <th>0</th>\n",
       "      <td>626267.93</td>\n",
       "      <td>1012074.62</td>\n",
       "      <td>28.54</td>\n",
       "      <td>17</td>\n",
       "      <td>1</td>\n",
       "      <td>3</td>\n",
       "      <td>0</td>\n",
       "      <td>0</td>\n",
       "      <td>1</td>\n",
       "      <td>-15.522</td>\n",
       "      <td>3</td>\n",
       "      <td>15</td>\n",
       "      <td>3.691531e+08</td>\n",
       "      <td>0</td>\n",
       "      <td>0</td>\n",
       "      <td>0.392</td>\n",
       "      <td>1.0</td>\n",
       "      <td>178.00</td>\n",
       "      <td>POINT Z (-79.85080 9.15396 28.54000)</td>\n",
       "    </tr>\n",
       "    <tr>\n",
       "      <th>1</th>\n",
       "      <td>626267.79</td>\n",
       "      <td>1012074.43</td>\n",
       "      <td>29.71</td>\n",
       "      <td>16</td>\n",
       "      <td>1</td>\n",
       "      <td>3</td>\n",
       "      <td>0</td>\n",
       "      <td>0</td>\n",
       "      <td>1</td>\n",
       "      <td>-15.576</td>\n",
       "      <td>3</td>\n",
       "      <td>15</td>\n",
       "      <td>3.691531e+08</td>\n",
       "      <td>0</td>\n",
       "      <td>0</td>\n",
       "      <td>0.176</td>\n",
       "      <td>0.7</td>\n",
       "      <td>179.15</td>\n",
       "      <td>POINT Z (-79.85080 9.15395 29.71000)</td>\n",
       "    </tr>\n",
       "    <tr>\n",
       "      <th>2</th>\n",
       "      <td>626267.77</td>\n",
       "      <td>1012074.23</td>\n",
       "      <td>29.04</td>\n",
       "      <td>31</td>\n",
       "      <td>2</td>\n",
       "      <td>3</td>\n",
       "      <td>0</td>\n",
       "      <td>0</td>\n",
       "      <td>1</td>\n",
       "      <td>-15.576</td>\n",
       "      <td>3</td>\n",
       "      <td>15</td>\n",
       "      <td>3.691531e+08</td>\n",
       "      <td>0</td>\n",
       "      <td>0</td>\n",
       "      <td>0.080</td>\n",
       "      <td>0.7</td>\n",
       "      <td>178.46</td>\n",
       "      <td>POINT Z (-79.85080 9.15395 29.04000)</td>\n",
       "    </tr>\n",
       "    <tr>\n",
       "      <th>3</th>\n",
       "      <td>626267.51</td>\n",
       "      <td>1012073.79</td>\n",
       "      <td>30.26</td>\n",
       "      <td>10</td>\n",
       "      <td>1</td>\n",
       "      <td>4</td>\n",
       "      <td>0</td>\n",
       "      <td>0</td>\n",
       "      <td>1</td>\n",
       "      <td>-15.666</td>\n",
       "      <td>1</td>\n",
       "      <td>15</td>\n",
       "      <td>3.691531e+08</td>\n",
       "      <td>0</td>\n",
       "      <td>0</td>\n",
       "      <td>0.184</td>\n",
       "      <td>1.1</td>\n",
       "      <td>179.64</td>\n",
       "      <td>POINT Z (-79.85080 9.15395 30.26000)</td>\n",
       "    </tr>\n",
       "    <tr>\n",
       "      <th>4</th>\n",
       "      <td>626267.42</td>\n",
       "      <td>1012073.80</td>\n",
       "      <td>27.71</td>\n",
       "      <td>12</td>\n",
       "      <td>3</td>\n",
       "      <td>3</td>\n",
       "      <td>0</td>\n",
       "      <td>0</td>\n",
       "      <td>1</td>\n",
       "      <td>-15.588</td>\n",
       "      <td>1</td>\n",
       "      <td>15</td>\n",
       "      <td>3.691531e+08</td>\n",
       "      <td>0</td>\n",
       "      <td>0</td>\n",
       "      <td>0.280</td>\n",
       "      <td>1.2</td>\n",
       "      <td>177.08</td>\n",
       "      <td>POINT Z (-79.85080 9.15395 27.71000)</td>\n",
       "    </tr>\n",
       "  </tbody>\n",
       "</table>\n",
       "</div>"
      ],
      "text/plain": [
       "           X           Y      Z  Intensity  ReturnNumber  NumberOfReturns  \\\n",
       "0  626267.93  1012074.62  28.54         17             1                3   \n",
       "1  626267.79  1012074.43  29.71         16             1                3   \n",
       "2  626267.77  1012074.23  29.04         31             2                3   \n",
       "3  626267.51  1012073.79  30.26         10             1                4   \n",
       "4  626267.42  1012073.80  27.71         12             3                3   \n",
       "\n",
       "   ScanDirectionFlag  EdgeOfFlightLine  Classification  ScanAngleRank  \\\n",
       "0                  0                 0               1        -15.522   \n",
       "1                  0                 0               1        -15.576   \n",
       "2                  0                 0               1        -15.576   \n",
       "3                  0                 0               1        -15.666   \n",
       "4                  0                 0               1        -15.588   \n",
       "\n",
       "   UserData  PointSourceId       GpsTime  ScanChannel  ClassFlags  \\\n",
       "0         3             15  3.691531e+08            0           0   \n",
       "1         3             15  3.691531e+08            0           0   \n",
       "2         3             15  3.691531e+08            0           0   \n",
       "3         1             15  3.691531e+08            0           0   \n",
       "4         1             15  3.691531e+08            0           0   \n",
       "\n",
       "   TargetThick  DevRatio    Zref                              geometry  \n",
       "0        0.392       1.0  178.00  POINT Z (-79.85080 9.15396 28.54000)  \n",
       "1        0.176       0.7  179.15  POINT Z (-79.85080 9.15395 29.71000)  \n",
       "2        0.080       0.7  178.46  POINT Z (-79.85080 9.15395 29.04000)  \n",
       "3        0.184       1.1  179.64  POINT Z (-79.85080 9.15395 30.26000)  \n",
       "4        0.280       1.2  177.08  POINT Z (-79.85080 9.15395 27.71000)  "
      ]
     },
     "execution_count": 16,
     "metadata": {},
     "output_type": "execute_result"
    }
   ],
   "source": [
    "gdf_proj = gdf.to_crs(4326)\n",
    "gdf_proj.head()"
   ]
  },
  {
   "cell_type": "markdown",
   "id": "c8c6628d-ae2d-4ac6-b8f8-3dd418295150",
   "metadata": {},
   "source": [
    "In order to save memory, we delete the unrequired data frames to keep the memory in check for notebook sharing to be discussed in following section. Also, we drop the columns which are not relevant for the visualization to reduce the memory footprint for lonboard and notebook sharing. "
   ]
  },
  {
   "cell_type": "code",
   "execution_count": 17,
   "id": "6c713e63-d6c4-40fc-a578-5c4366ec634b",
   "metadata": {
    "tags": []
   },
   "outputs": [],
   "source": [
    "# Deleting not required dataframes\n",
    "del(df)\n",
    "del(gdf)"
   ]
  },
  {
   "cell_type": "code",
   "execution_count": 18,
   "id": "05200fea-2a0f-4df6-a8ca-6e2c8be92f0a",
   "metadata": {},
   "outputs": [],
   "source": [
    "#Dropping not required columns\n",
    "\n",
    "gdf_proj = gdf_proj.drop(['ReturnNumber', 'NumberOfReturns', 'ScanDirectionFlag', 'EdgeOfFlightLine', 'ScanAngleRank', 'UserData', 'PointSourceId', 'GpsTime', 'Intensity', 'Classification', 'ScanChannel', 'ClassFlags', 'TargetThick', 'DevRatio', 'Zref'], axis=1)"
   ]
  },
  {
   "cell_type": "markdown",
   "id": "173c1fa1-e1f1-41d8-92ec-54545302981d",
   "metadata": {},
   "source": [
    "### Define a Point Cloud Layer\n",
    "\n",
    "We define a Point Cloud Layer based on the geo-dataframe."
   ]
  },
  {
   "cell_type": "code",
   "execution_count": 19,
   "id": "4587a1c9-d74c-4f10-8f2a-d66f94007c0f",
   "metadata": {
    "tags": []
   },
   "outputs": [],
   "source": [
    "point_layer = PointCloudLayer.from_geopandas(gdf_proj, point_size=2)"
   ]
  },
  {
   "cell_type": "markdown",
   "id": "fa7d17d8-9d9c-43b3-b08f-749b01431aba",
   "metadata": {},
   "source": [
    "### Styling Point Cloud Layer\n",
    "\n",
    "Here, we normalize the elevation values and create a color map for visualizing the point cloud layer. "
   ]
  },
  {
   "cell_type": "code",
   "execution_count": 20,
   "id": "5b46b2c6-f0bf-4d54-9aa7-37640ad3c09f",
   "metadata": {
    "tags": []
   },
   "outputs": [],
   "source": [
    "normalizer = Normalize(1, gdf_proj[\"Z\"].max(), clip=True)\n",
    "normalized_heights = normalizer(gdf_proj[\"Z\"])"
   ]
  },
  {
   "cell_type": "code",
   "execution_count": 21,
   "id": "69f9a229-c023-492c-966e-1e0951ba903b",
   "metadata": {},
   "outputs": [],
   "source": [
    "point_layer.get_color = apply_continuous_cmap(normalized_heights, Greens_3, alpha=0.6)"
   ]
  },
  {
   "cell_type": "markdown",
   "id": "1f8aea28-74a3-44cd-b7d4-6f4a88cdcd8f",
   "metadata": {},
   "source": [
    "### Reading AGB Product - Raster Layer\n",
    "\n",
    "For visualizing COGs, we use `BitmapTileLayer` which renders tiles dynamically generated by TiTiler."
   ]
  },
  {
   "cell_type": "code",
   "execution_count": 22,
   "id": "94bcac1e-a84f-4737-8aee-7b62188c62c5",
   "metadata": {
    "tags": []
   },
   "outputs": [],
   "source": [
    "titiler_endpoint = \"https://titiler.maap-project.org\""
   ]
  },
  {
   "cell_type": "code",
   "execution_count": 23,
   "id": "3c4b27ef-221d-4ce4-af0e-f0dc7a13c31e",
   "metadata": {},
   "outputs": [],
   "source": [
    "#AGB product stored locally in MAAP workspace\n",
    "agb_product_url = \"s3://maap-ops-workspace/shared/omshinde23/agbd.tif\""
   ]
  },
  {
   "cell_type": "code",
   "execution_count": 24,
   "id": "b26817d7-2288-4bd3-b32b-68380a4d271c",
   "metadata": {},
   "outputs": [],
   "source": [
    "agb_product_tile_url = \"https://titiler.maap-project.org/cog/tiles/{z}/{x}/{y}?url=s3://maap-ops-workspace/shared/omshinde23/agbd.tif&bidx=5&rescale=0,600&colormap_name=viridis\""
   ]
  },
  {
   "cell_type": "code",
   "execution_count": 25,
   "id": "e35b0a96-da86-47e5-8421-84abd1b9d0e4",
   "metadata": {},
   "outputs": [
    {
     "name": "stdout",
     "output_type": "stream",
     "text": [
      "[-79.87926821173158, 9.121956517182756, -79.81171917965493, 9.186829702218509]\n"
     ]
    }
   ],
   "source": [
    "r_agb = httpx.get(\n",
    "    f\"{titiler_endpoint}/cog/info\",\n",
    "    params = {\n",
    "        \"url\": agb_product_url,\n",
    "    }\n",
    ").json()\n",
    "\n",
    "bounds_agb = r_agb[\"bounds\"]\n",
    "print(bounds_agb)"
   ]
  },
  {
   "cell_type": "code",
   "execution_count": 26,
   "id": "dff0aadc-7c19-419a-8f28-90e60aecd7ea",
   "metadata": {},
   "outputs": [],
   "source": [
    "agb_product_layer = BitmapTileLayer(\n",
    "    data=agb_product_tile_url,\n",
    "    tile_size=148,\n",
    "    max_requests=-1,\n",
    "    min_zoom=3,\n",
    "    max_zoom=18,\n",
    "    extent=bounds_agb\n",
    ")"
   ]
  },
  {
   "cell_type": "markdown",
   "id": "b37695a2-1320-4de4-b3ed-59bbf0e60241",
   "metadata": {},
   "source": [
    "### Reading BCI Trails 2024 layer\n",
    "\n",
    "In addition to the point cloud layer and the AGB product layer, we add the BCI Trails 2022 layer downloaded locally for the visualization. \n",
    "\n",
    "Source: [BCI Trails 2024](https://arcg.is/0bLP0f)"
   ]
  },
  {
   "cell_type": "code",
   "execution_count": 27,
   "id": "7b318ef3-a097-4dc6-ae95-fe8a6a5a3ad7",
   "metadata": {
    "tags": []
   },
   "outputs": [
    {
     "data": {
      "text/html": [
       "<div>\n",
       "<style scoped>\n",
       "    .dataframe tbody tr th:only-of-type {\n",
       "        vertical-align: middle;\n",
       "    }\n",
       "\n",
       "    .dataframe tbody tr th {\n",
       "        vertical-align: top;\n",
       "    }\n",
       "\n",
       "    .dataframe thead th {\n",
       "        text-align: right;\n",
       "    }\n",
       "</style>\n",
       "<table border=\"1\" class=\"dataframe\">\n",
       "  <thead>\n",
       "    <tr style=\"text-align: right;\">\n",
       "      <th></th>\n",
       "      <th>OBJECTID</th>\n",
       "      <th>NAME</th>\n",
       "      <th>FullName</th>\n",
       "      <th>TYPE</th>\n",
       "      <th>LABEL</th>\n",
       "      <th>GlobalID</th>\n",
       "      <th>SHAPE_Length</th>\n",
       "      <th>geometry</th>\n",
       "    </tr>\n",
       "  </thead>\n",
       "  <tbody>\n",
       "    <tr>\n",
       "      <th>0</th>\n",
       "      <td>1</td>\n",
       "      <td>Harvard</td>\n",
       "      <td>Harvard University</td>\n",
       "      <td>Official Trail</td>\n",
       "      <td>Harvard</td>\n",
       "      <td>{57C9F376-C503-4CC7-A726-7DBFB94D7EAB}</td>\n",
       "      <td>0.017940</td>\n",
       "      <td>MULTILINESTRING ((-79.83224 9.15324, -79.83207...</td>\n",
       "    </tr>\n",
       "    <tr>\n",
       "      <th>1</th>\n",
       "      <td>2</td>\n",
       "      <td>Chapman</td>\n",
       "      <td>Frank M. Chapman</td>\n",
       "      <td>Official Trail</td>\n",
       "      <td>Chapman</td>\n",
       "      <td>{CC890B54-0CEF-478D-A430-8B91C3417392}</td>\n",
       "      <td>0.009092</td>\n",
       "      <td>MULTILINESTRING ((-79.83208 9.15386, -79.83197...</td>\n",
       "    </tr>\n",
       "    <tr>\n",
       "      <th>2</th>\n",
       "      <td>3</td>\n",
       "      <td>T. Barbour</td>\n",
       "      <td>Thomas Barbour</td>\n",
       "      <td>Official Trail</td>\n",
       "      <td>T. Barbour</td>\n",
       "      <td>{DE8E8F6C-EC5F-40AE-9B80-A07DAEA0FD23}</td>\n",
       "      <td>0.026124</td>\n",
       "      <td>MULTILINESTRING ((-79.83896 9.16169, -79.83890...</td>\n",
       "    </tr>\n",
       "    <tr>\n",
       "      <th>3</th>\n",
       "      <td>4</td>\n",
       "      <td>Hood</td>\n",
       "      <td>J. Douglas Hood</td>\n",
       "      <td>Official Trail</td>\n",
       "      <td>Hood</td>\n",
       "      <td>{E7BA1FB5-03AC-4E5C-8D6A-C9D31955B1CC}</td>\n",
       "      <td>0.006215</td>\n",
       "      <td>MULTILINESTRING ((-79.82954 9.15869, -79.82951...</td>\n",
       "    </tr>\n",
       "    <tr>\n",
       "      <th>4</th>\n",
       "      <td>5</td>\n",
       "      <td>Van Tyne</td>\n",
       "      <td>Josselyn Van Tyne</td>\n",
       "      <td>Official Trail</td>\n",
       "      <td>Van Tyne</td>\n",
       "      <td>{8A5646F3-9B31-4EE7-BBCE-F75FFFF47244}</td>\n",
       "      <td>0.013387</td>\n",
       "      <td>MULTILINESTRING ((-79.83411 9.15800, -79.83398...</td>\n",
       "    </tr>\n",
       "  </tbody>\n",
       "</table>\n",
       "</div>"
      ],
      "text/plain": [
       "   OBJECTID        NAME            FullName            TYPE       LABEL  \\\n",
       "0         1     Harvard  Harvard University  Official Trail     Harvard   \n",
       "1         2     Chapman    Frank M. Chapman  Official Trail     Chapman   \n",
       "2         3  T. Barbour      Thomas Barbour  Official Trail  T. Barbour   \n",
       "3         4        Hood     J. Douglas Hood  Official Trail        Hood   \n",
       "4         5    Van Tyne   Josselyn Van Tyne  Official Trail    Van Tyne   \n",
       "\n",
       "                                 GlobalID  SHAPE_Length  \\\n",
       "0  {57C9F376-C503-4CC7-A726-7DBFB94D7EAB}      0.017940   \n",
       "1  {CC890B54-0CEF-478D-A430-8B91C3417392}      0.009092   \n",
       "2  {DE8E8F6C-EC5F-40AE-9B80-A07DAEA0FD23}      0.026124   \n",
       "3  {E7BA1FB5-03AC-4E5C-8D6A-C9D31955B1CC}      0.006215   \n",
       "4  {8A5646F3-9B31-4EE7-BBCE-F75FFFF47244}      0.013387   \n",
       "\n",
       "                                            geometry  \n",
       "0  MULTILINESTRING ((-79.83224 9.15324, -79.83207...  \n",
       "1  MULTILINESTRING ((-79.83208 9.15386, -79.83197...  \n",
       "2  MULTILINESTRING ((-79.83896 9.16169, -79.83890...  \n",
       "3  MULTILINESTRING ((-79.82954 9.15869, -79.82951...  \n",
       "4  MULTILINESTRING ((-79.83411 9.15800, -79.83398...  "
      ]
     },
     "execution_count": 27,
     "metadata": {},
     "output_type": "execute_result"
    }
   ],
   "source": [
    "url = \"https://opendata.arcgis.com/datasets/647044233eb04328be4e714e82c6447f_0.geojson\"\n",
    "gdf_trail = gpd.read_file(url)\n",
    "gdf_trail.head()"
   ]
  },
  {
   "cell_type": "code",
   "execution_count": 28,
   "id": "8c988f32-c14e-4982-84fd-1d1902d95f40",
   "metadata": {
    "tags": []
   },
   "outputs": [
    {
     "data": {
      "text/html": [
       "<div>\n",
       "<style scoped>\n",
       "    .dataframe tbody tr th:only-of-type {\n",
       "        vertical-align: middle;\n",
       "    }\n",
       "\n",
       "    .dataframe tbody tr th {\n",
       "        vertical-align: top;\n",
       "    }\n",
       "\n",
       "    .dataframe thead th {\n",
       "        text-align: right;\n",
       "    }\n",
       "</style>\n",
       "<table border=\"1\" class=\"dataframe\">\n",
       "  <thead>\n",
       "    <tr style=\"text-align: right;\">\n",
       "      <th></th>\n",
       "      <th>OBJECTID</th>\n",
       "      <th>NAME</th>\n",
       "      <th>FullName</th>\n",
       "      <th>TYPE</th>\n",
       "      <th>LABEL</th>\n",
       "      <th>GlobalID</th>\n",
       "      <th>SHAPE_Length</th>\n",
       "      <th>geometry</th>\n",
       "    </tr>\n",
       "  </thead>\n",
       "  <tbody>\n",
       "    <tr>\n",
       "      <th>0</th>\n",
       "      <td>1</td>\n",
       "      <td>Harvard</td>\n",
       "      <td>Harvard University</td>\n",
       "      <td>Official Trail</td>\n",
       "      <td>Harvard</td>\n",
       "      <td>{57C9F376-C503-4CC7-A726-7DBFB94D7EAB}</td>\n",
       "      <td>0.017940</td>\n",
       "      <td>MULTILINESTRING ((-79.83224 9.15324, -79.83207...</td>\n",
       "    </tr>\n",
       "    <tr>\n",
       "      <th>1</th>\n",
       "      <td>2</td>\n",
       "      <td>Chapman</td>\n",
       "      <td>Frank M. Chapman</td>\n",
       "      <td>Official Trail</td>\n",
       "      <td>Chapman</td>\n",
       "      <td>{CC890B54-0CEF-478D-A430-8B91C3417392}</td>\n",
       "      <td>0.009092</td>\n",
       "      <td>MULTILINESTRING ((-79.83208 9.15386, -79.83197...</td>\n",
       "    </tr>\n",
       "    <tr>\n",
       "      <th>2</th>\n",
       "      <td>3</td>\n",
       "      <td>T. Barbour</td>\n",
       "      <td>Thomas Barbour</td>\n",
       "      <td>Official Trail</td>\n",
       "      <td>T. Barbour</td>\n",
       "      <td>{DE8E8F6C-EC5F-40AE-9B80-A07DAEA0FD23}</td>\n",
       "      <td>0.026124</td>\n",
       "      <td>MULTILINESTRING ((-79.83896 9.16169, -79.83890...</td>\n",
       "    </tr>\n",
       "    <tr>\n",
       "      <th>3</th>\n",
       "      <td>4</td>\n",
       "      <td>Hood</td>\n",
       "      <td>J. Douglas Hood</td>\n",
       "      <td>Official Trail</td>\n",
       "      <td>Hood</td>\n",
       "      <td>{E7BA1FB5-03AC-4E5C-8D6A-C9D31955B1CC}</td>\n",
       "      <td>0.006215</td>\n",
       "      <td>MULTILINESTRING ((-79.82954 9.15869, -79.82951...</td>\n",
       "    </tr>\n",
       "    <tr>\n",
       "      <th>4</th>\n",
       "      <td>5</td>\n",
       "      <td>Van Tyne</td>\n",
       "      <td>Josselyn Van Tyne</td>\n",
       "      <td>Official Trail</td>\n",
       "      <td>Van Tyne</td>\n",
       "      <td>{8A5646F3-9B31-4EE7-BBCE-F75FFFF47244}</td>\n",
       "      <td>0.013387</td>\n",
       "      <td>MULTILINESTRING ((-79.83411 9.15800, -79.83398...</td>\n",
       "    </tr>\n",
       "  </tbody>\n",
       "</table>\n",
       "</div>"
      ],
      "text/plain": [
       "   OBJECTID        NAME            FullName            TYPE       LABEL  \\\n",
       "0         1     Harvard  Harvard University  Official Trail     Harvard   \n",
       "1         2     Chapman    Frank M. Chapman  Official Trail     Chapman   \n",
       "2         3  T. Barbour      Thomas Barbour  Official Trail  T. Barbour   \n",
       "3         4        Hood     J. Douglas Hood  Official Trail        Hood   \n",
       "4         5    Van Tyne   Josselyn Van Tyne  Official Trail    Van Tyne   \n",
       "\n",
       "                                 GlobalID  SHAPE_Length  \\\n",
       "0  {57C9F376-C503-4CC7-A726-7DBFB94D7EAB}      0.017940   \n",
       "1  {CC890B54-0CEF-478D-A430-8B91C3417392}      0.009092   \n",
       "2  {DE8E8F6C-EC5F-40AE-9B80-A07DAEA0FD23}      0.026124   \n",
       "3  {E7BA1FB5-03AC-4E5C-8D6A-C9D31955B1CC}      0.006215   \n",
       "4  {8A5646F3-9B31-4EE7-BBCE-F75FFFF47244}      0.013387   \n",
       "\n",
       "                                            geometry  \n",
       "0  MULTILINESTRING ((-79.83224 9.15324, -79.83207...  \n",
       "1  MULTILINESTRING ((-79.83208 9.15386, -79.83197...  \n",
       "2  MULTILINESTRING ((-79.83896 9.16169, -79.83890...  \n",
       "3  MULTILINESTRING ((-79.82954 9.15869, -79.82951...  \n",
       "4  MULTILINESTRING ((-79.83411 9.15800, -79.83398...  "
      ]
     },
     "execution_count": 28,
     "metadata": {},
     "output_type": "execute_result"
    }
   ],
   "source": [
    "#Converting the geometry to EPSG:4326\n",
    "gdf_trail_proj = gdf_trail.to_crs(4326)\n",
    "\n",
    "# Display the first few rows\n",
    "gdf_trail_proj.head()"
   ]
  },
  {
   "cell_type": "markdown",
   "id": "6835025e-b8b1-492b-a5f8-574674e8c231",
   "metadata": {
    "tags": []
   },
   "source": [
    "### Creating Map Visualization for AGB Layer\n",
    "\n",
    "Here, we visualize the AGB layer and point cloud layer in a single `Map` widget. The readers are recommended to use `Ctrl+Click+Drag` to change the viewing angle. Also, hover over the BCI trails to get more information about a particular trail."
   ]
  },
  {
   "cell_type": "code",
   "execution_count": 29,
   "id": "0b2db645-0671-4b9f-aad3-8fea3b9a955a",
   "metadata": {
    "tags": []
   },
   "outputs": [],
   "source": [
    "#Function for generating colormap for AGB and CHM layer legend\n",
    "\n",
    "def plot_colormap(gradient_max, title, cmap):\n",
    "    \n",
    "    gradient = np.linspace(0, 10, gradient_max)\n",
    "    gradient = np.vstack((gradient, gradient))\n",
    "    \n",
    "    # Create figure and adjust figure height to number of colormaps\n",
    "    nrows = 1\n",
    "    figh = 0.35 + 0.15 + (nrows + (nrows-1)*0.1)*0.22\n",
    "    fig, axs = plt.subplots(nrows=nrows, figsize=(6.4, figh))\n",
    "    fig.subplots_adjust(top=1-.35/figh, bottom=.15/figh, left=0.2, right=0.99)\n",
    "    \n",
    "    axs.get_yaxis().set_visible(False)\n",
    "\n",
    "    axs.set_title(title, fontsize=14)\n",
    "    axs.imshow(gradient, aspect='auto', cmap=cmap)"
   ]
  },
  {
   "cell_type": "code",
   "execution_count": 30,
   "id": "4e61bd26-ac60-4604-b50d-3dd4a07d505a",
   "metadata": {
    "tags": []
   },
   "outputs": [],
   "source": [
    "from lonboard import Map, PathLayer\n",
    "trail_layer = PathLayer.from_geopandas(gdf_trail_proj, width_min_pixels=2.5)\n",
    "trail_layer.auto_highlight = True"
   ]
  },
  {
   "cell_type": "code",
   "execution_count": 31,
   "id": "2af63d88-5c25-4c86-a7b3-28187d579f62",
   "metadata": {
    "tags": []
   },
   "outputs": [
    {
     "data": {
      "application/vnd.jupyter.widget-view+json": {
       "model_id": "52d31196c42b47068c7b7608d0806981",
       "version_major": 2,
       "version_minor": 1
      },
      "text/plain": [
       "Map(layers=[BitmapTileLayer(data='https://titiler.maap-project.org/cog/tiles/{z}/{x}/{y}?url=s3://maap-ops-wor…"
      ]
     },
     "execution_count": 31,
     "metadata": {},
     "output_type": "execute_result"
    }
   ],
   "source": [
    "m = Map([agb_product_layer, trail_layer, point_layer])\n",
    "m"
   ]
  },
  {
   "cell_type": "code",
   "execution_count": 32,
   "id": "e4be052d-12e0-4efe-9bde-8e2d5e819e66",
   "metadata": {
    "tags": []
   },
   "outputs": [
    {
     "data": {
      "image/png": "[encoded data removed]",
      "text/plain": [
       "<Figure size 640x72 with 1 Axes>"
      ]
     },
     "metadata": {},
     "output_type": "display_data"
    }
   ],
   "source": [
    "# AGB values range 0-600, so gradient_max = 601\n",
    "plot_colormap(601, \"AGB Layer Legend\",'viridis')"
   ]
  },
  {
   "cell_type": "markdown",
   "id": "5f2482c9-587c-4c64-8f0e-85de69070419",
   "metadata": {},
   "source": [
    "### Reading META CHM Layer\n",
    "\n",
    "Now, we visualize the META CHM layer with the point cloud layer."
   ]
  },
  {
   "cell_type": "code",
   "execution_count": 33,
   "id": "0bf6f641-a7a5-4d3b-afa3-1df34995471c",
   "metadata": {
    "tags": []
   },
   "outputs": [],
   "source": [
    "chm_product_url = \"s3://maap-ops-workspace/shared/omshinde23/meta_chm_new.tif\""
   ]
  },
  {
   "cell_type": "code",
   "execution_count": 34,
   "id": "1a1c6c85-15a4-4907-81fe-a35faeada2a4",
   "metadata": {
    "tags": []
   },
   "outputs": [],
   "source": [
    "chm_product_tile_url = \"https://titiler.maap-project.org/cog/tiles/{z}/{x}/{y}?url=s3://maap-ops-workspace/shared/omshinde23/meta_chm_new.tif&rescale=0,60&colormap_name=viridis\""
   ]
  },
  {
   "cell_type": "code",
   "execution_count": 35,
   "id": "c967a8d4-c3a3-4db8-8230-c472c12c5dfc",
   "metadata": {
    "tags": []
   },
   "outputs": [
    {
     "name": "stdout",
     "output_type": "stream",
     "text": [
      "[-79.87929430332252, 9.122007215999078, -79.81190140986412, 9.187029513446365]\n"
     ]
    }
   ],
   "source": [
    "r_chm = httpx.get(\n",
    "    f\"{titiler_endpoint}/cog/info\",\n",
    "    params = {\n",
    "        \"url\": chm_product_url,\n",
    "    }\n",
    ").json()\n",
    "\n",
    "bounds_chm = r_chm[\"bounds\"]\n",
    "print(bounds_chm)"
   ]
  },
  {
   "cell_type": "code",
   "execution_count": 36,
   "id": "bad756e6-7f53-41ac-9794-2f42ea0a3021",
   "metadata": {
    "tags": []
   },
   "outputs": [],
   "source": [
    "chm_product_layer = BitmapTileLayer(\n",
    "    data=chm_product_tile_url,\n",
    "    tile_size=148,\n",
    "    max_requests=-1,\n",
    "    min_zoom=3,\n",
    "    max_zoom=18,\n",
    "    extent=bounds_chm\n",
    ")"
   ]
  },
  {
   "cell_type": "code",
   "execution_count": 37,
   "id": "f295328e-1c32-4b3a-8d43-e15c6cb53e28",
   "metadata": {
    "tags": []
   },
   "outputs": [
    {
     "data": {
      "application/vnd.jupyter.widget-view+json": {
       "model_id": "080c1f1451f04831926d5365af03d377",
       "version_major": 2,
       "version_minor": 1
      },
      "text/plain": [
       "Map(layers=[BitmapTileLayer(data='https://titiler.maap-project.org/cog/tiles/{z}/{x}/{y}?url=s3://maap-ops-wor…"
      ]
     },
     "execution_count": 37,
     "metadata": {},
     "output_type": "execute_result"
    }
   ],
   "source": [
    "m1 = Map([chm_product_layer, trail_layer, point_layer])\n",
    "m1"
   ]
  },
  {
   "cell_type": "code",
   "execution_count": 38,
   "id": "d62643e6-0af7-4382-9393-d62f43081f21",
   "metadata": {
    "tags": []
   },
   "outputs": [
    {
     "data": {
      "image/png": "[encoded data removed]",
      "text/plain": [
       "<Figure size 640x72 with 1 Axes>"
      ]
     },
     "metadata": {},
     "output_type": "display_data"
    }
   ],
   "source": [
    "plot_colormap(61, \"Meta CHM Layer Legend\",'viridis')"
   ]
  },
  {
   "cell_type": "markdown",
   "id": "662d7f99-ee0f-4ecc-b6f1-89c995a289a7",
   "metadata": {},
   "source": [
    "### Notebook Sharing\n",
    "\n",
    "Once the processing is complete and the notebook is ready to be shared as a resource, you can follow these steps to ensure it is accessible to a broader audience. The rendered notebook will be designed for demonstration purposes only and will not be executable. This approach is particularly valuable for presenting complex scientific notebooks to a non-technical audience in a clear and understandable way. For this, we use [Notebook Sharing](notebooksharing.space) service. Since, this notebook contains interactive visualization maps, it is a good practice to generate an executed version of this notebook before sharing so that the maps are frozen. For generating an executed notebook, following commands need to be performed."
   ]
  },
  {
   "cell_type": "code",
   "execution_count": 39,
   "id": "cc0c903e-33a4-420d-8eee-2dd20e5b15f8",
   "metadata": {
    "tags": []
   },
   "outputs": [
    {
     "name": "stdout",
     "output_type": "stream",
     "text": [
      "[ListKernelSpecs] WARNING | Config option `kernel_spec_manager_class` not recognized by `ListKernelSpecs`.\n",
      "Available kernels:\n",
      "  python3    /opt/conda/envs/pangeo/share/jupyter/kernels/python3\n",
      "  myenv      /projects/.local/share/jupyter/kernels/myenv\n",
      "  pdal24     /projects/.local/share/jupyter/kernels/pdal24\n",
      "  py37       /projects/.local/share/jupyter/kernels/py37\n",
      "  py38       /projects/.local/share/jupyter/kernels/py38\n",
      "  py39       /projects/.local/share/jupyter/kernels/py39\n",
      "  vanilla    /projects/.local/share/jupyter/kernels/vanilla\n"
     ]
    }
   ],
   "source": [
    "# Get the list of jupyter notebook kernels \n",
    "\n",
    "!jupyter kernelspec list"
   ]
  },
  {
   "cell_type": "code",
   "execution_count": null,
   "id": "5a84220f-a919-4b7f-9600-4ee750b55c6e",
   "metadata": {
    "tags": []
   },
   "outputs": [
    {
     "name": "stdout",
     "output_type": "stream",
     "text": [
      "[NbConvertApp] WARNING | Config option `kernel_spec_manager_class` not recognized by `NbConvertApp`.\n",
      "[NbConvertApp] Converting notebook big-EO-viz.ipynb to ipynb\n",
      "(PDAL Error) Can't load library /opt/conda/envs/pangeo/lib/libpdal_plugin_reader_draco.so: Failed to load \"/opt/conda/envs/pangeo/lib/libpdal_plugin_reader_draco.so\": libdraco.so.8: cannot open shared object file: No such file or directory(PDAL Error) Can't load library /opt/conda/envs/pangeo/lib/libpdal_plugin_writer_draco.so: Failed to load \"/opt/conda/envs/pangeo/lib/libpdal_plugin_writer_draco.so\": libdraco.so.8: cannot open shared object file: No such file or directory(PDAL Error) Can't load library /opt/conda/envs/pangeo/lib/libpdal_plugin_reader_draco.so: Failed to load \"/opt/conda/envs/pangeo/lib/libpdal_plugin_reader_draco.so\": libdraco.so.8: cannot open shared object file: No such file or directory(PDAL Error) Can't load library /opt/conda/envs/pangeo/lib/libpdal_plugin_writer_draco.so: Failed to load \"/opt/conda/envs/pangeo/lib/libpdal_plugin_writer_draco.so\": libdraco.so.8: cannot open shared object file: No such file or directoryCurl failure: Timeout was reached\n",
      "Curl failure: Timeout was reached\n"
     ]
    }
   ],
   "source": [
    "# Generate an executed notebook - big-EO-viz-executed.ipynb\n",
    "# Use the kernel corresponding to the current environment from above, python3 in this case\n",
    "\n",
    "!python -m nbconvert big-EO-viz.ipynb --to ipynb --stdout --execute > big-EO-viz-executed.ipynb -ExecutePreprocessor.kernel_name=python3"
   ]
  },
  {
   "cell_type": "markdown",
   "id": "5c48e165-9ab6-42f5-8f5c-624ca12068a5",
   "metadata": {},
   "source": [
    "### Upload the Notebook\n",
    "\n",
    "After executing the above cell, you can find the executed notebook in the same directory with the name `big-EO-viz-executed.ipynb`. You can upload this notebook to the [Notebook Sharing](notebooksharing.space) and get an unique URL for sharing. "
   ]
  }
 ],
 "metadata": {
  "kernelspec": {
   "display_name": "Python [conda env:pangeo] *",
   "language": "python",
   "name": "conda-env-pangeo-py"
  },
  "language_info": {
   "codemirror_mode": {
    "name": "ipython",
    "version": 3
   },
   "file_extension": ".py",
   "mimetype": "text/x-python",
   "name": "python",
   "nbconvert_exporter": "python",
   "pygments_lexer": "ipython3",
   "version": "3.10.13"
  }
 },
 "nbformat": 4,
 "nbformat_minor": 5
}
