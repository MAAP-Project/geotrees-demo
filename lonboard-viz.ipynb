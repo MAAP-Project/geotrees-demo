{
 "cells": [
  {
   "cell_type": "markdown",
   "id": "56a301bb-74ef-4275-9c3d-419832f38297",
   "metadata": {},
   "source": [
    "# Visualization of the COPC using Lonboard"
   ]
  },
  {
   "cell_type": "code",
   "execution_count": 1,
   "id": "19162c1a-c8a6-4f56-bba5-e921e62b2477",
   "metadata": {
    "tags": []
   },
   "outputs": [
    {
     "name": "stderr",
     "output_type": "stream",
     "text": [
      "(PDAL Error) Can't load library /opt/conda/envs/pangeo/lib/libpdal_plugin_reader_draco.so: Failed to load \"/opt/conda/envs/pangeo/lib/libpdal_plugin_reader_draco.so\": libdraco.so.8: cannot open shared object file: No such file or directory(PDAL Error) Can't load library /opt/conda/envs/pangeo/lib/libpdal_plugin_writer_draco.so: Failed to load \"/opt/conda/envs/pangeo/lib/libpdal_plugin_writer_draco.so\": libdraco.so.8: cannot open shared object file: No such file or directory(PDAL Error) Can't load library /opt/conda/envs/pangeo/lib/libpdal_plugin_reader_draco.so: Failed to load \"/opt/conda/envs/pangeo/lib/libpdal_plugin_reader_draco.so\": libdraco.so.8: cannot open shared object file: No such file or directory(PDAL Error) Can't load library /opt/conda/envs/pangeo/lib/libpdal_plugin_writer_draco.so: Failed to load \"/opt/conda/envs/pangeo/lib/libpdal_plugin_writer_draco.so\": libdraco.so.8: cannot open shared object file: No such file or directory"
     ]
    }
   ],
   "source": [
    "import geopandas as gpd\n",
    "from lonboard import viz\n",
    "import pdal\n",
    "import pandas as pd\n",
    "\n",
    "from lonboard import Map, ScatterplotLayer\n",
    "from lonboard.colormap import apply_continuous_cmap\n",
    "import httpx\n",
    "import json\n",
    "from palettable.colorbrewer.sequential import YlGnBu_7"
   ]
  },
  {
   "cell_type": "code",
   "execution_count": 2,
   "id": "e59964c3-b6d5-46bf-85f8-373b1241601d",
   "metadata": {
    "tags": []
   },
   "outputs": [],
   "source": [
    "path = \"my_scripts/minord/ALS_ground_copc/outputs/norm_copc/norm_copc_chunk_623000_1012200.copc.laz\""
   ]
  },
  {
   "cell_type": "code",
   "execution_count": 3,
   "id": "e646812f-6b34-4a63-bae1-0f791f8c5d4a",
   "metadata": {
    "tags": []
   },
   "outputs": [],
   "source": [
    "dir_path = \"../my_scripts/minord/ALS_ground_copc/outputs/norm_copc/norm_copc_chunk_623400_*.copc.laz\"\n",
    "out_file = \"../my_scripts/minord/ALS_ground_copc/outputs/norm_copc/norm_copc_merged_623400.copc.laz\""
   ]
  },
  {
   "cell_type": "code",
   "execution_count": 4,
   "id": "529e61be-603a-4e19-8d17-d94962f7be45",
   "metadata": {
    "tags": []
   },
   "outputs": [
    {
     "data": {
      "text/plain": [
       "2255837"
      ]
     },
     "execution_count": 4,
     "metadata": {},
     "output_type": "execute_result"
    }
   ],
   "source": [
    "pipeline = (pdal.Reader.copc(filename=dir_path) | pdal.Filter.merge() | pdal.Writer.copc(out_file))\n",
    "\n",
    "pipeline.execute()"
   ]
  },
  {
   "cell_type": "markdown",
   "id": "913f3d74-7cb7-45e2-a321-09e9fae9ace7",
   "metadata": {},
   "source": [
    "### Read the merged COPC file"
   ]
  },
  {
   "cell_type": "code",
   "execution_count": 7,
   "id": "c9d92d34-90c3-46f2-98fb-ec5d1647abfd",
   "metadata": {
    "tags": []
   },
   "outputs": [
    {
     "data": {
      "text/plain": [
       "2255837"
      ]
     },
     "execution_count": 7,
     "metadata": {},
     "output_type": "execute_result"
    }
   ],
   "source": [
    "pipeline2 = (pdal.Reader.copc(filename=out_file) | pdal.Filter.reprojection(out_srs=\"epsg:4326\"))\n",
    "pipeline2.execute()"
   ]
  },
  {
   "cell_type": "code",
   "execution_count": 8,
   "id": "b09e11b4-26bb-4fe1-92c9-11eedf48e85a",
   "metadata": {
    "tags": []
   },
   "outputs": [],
   "source": [
    "# Getting array values\n",
    "arr_values = pipeline2.arrays"
   ]
  },
  {
   "cell_type": "code",
   "execution_count": 9,
   "id": "b44513da-419f-4406-a5d7-97167537c99c",
   "metadata": {
    "tags": []
   },
   "outputs": [
    {
     "data": {
      "text/plain": [
       "(2255837,)"
      ]
     },
     "execution_count": 9,
     "metadata": {},
     "output_type": "execute_result"
    }
   ],
   "source": [
    "arr_values[0].shape"
   ]
  },
  {
   "cell_type": "code",
   "execution_count": 10,
   "id": "733b22c3-111c-4fbe-b36f-720fe3b8db18",
   "metadata": {
    "tags": []
   },
   "outputs": [],
   "source": [
    "df = pd.DataFrame(arr_values[0])"
   ]
  },
  {
   "cell_type": "code",
   "execution_count": 11,
   "id": "1d932279-108d-4af4-9226-00213f246af1",
   "metadata": {
    "tags": []
   },
   "outputs": [
    {
     "data": {
      "text/html": [
       "<div>\n",
       "<style scoped>\n",
       "    .dataframe tbody tr th:only-of-type {\n",
       "        vertical-align: middle;\n",
       "    }\n",
       "\n",
       "    .dataframe tbody tr th {\n",
       "        vertical-align: top;\n",
       "    }\n",
       "\n",
       "    .dataframe thead th {\n",
       "        text-align: right;\n",
       "    }\n",
       "</style>\n",
       "<table border=\"1\" class=\"dataframe\">\n",
       "  <thead>\n",
       "    <tr style=\"text-align: right;\">\n",
       "      <th></th>\n",
       "      <th>X</th>\n",
       "      <th>Y</th>\n",
       "      <th>Z</th>\n",
       "      <th>Intensity</th>\n",
       "      <th>ReturnNumber</th>\n",
       "      <th>NumberOfReturns</th>\n",
       "      <th>ScanDirectionFlag</th>\n",
       "      <th>EdgeOfFlightLine</th>\n",
       "      <th>Classification</th>\n",
       "      <th>ScanAngleRank</th>\n",
       "      <th>UserData</th>\n",
       "      <th>PointSourceId</th>\n",
       "      <th>GpsTime</th>\n",
       "      <th>ScanChannel</th>\n",
       "      <th>ClassFlags</th>\n",
       "      <th>TargetThick</th>\n",
       "      <th>DevRatio</th>\n",
       "      <th>Zref</th>\n",
       "    </tr>\n",
       "  </thead>\n",
       "  <tbody>\n",
       "    <tr>\n",
       "      <th>0</th>\n",
       "      <td>-79.87</td>\n",
       "      <td>9.14</td>\n",
       "      <td>12.16</td>\n",
       "      <td>58</td>\n",
       "      <td>1</td>\n",
       "      <td>3</td>\n",
       "      <td>0</td>\n",
       "      <td>0</td>\n",
       "      <td>1</td>\n",
       "      <td>34.127998</td>\n",
       "      <td>1</td>\n",
       "      <td>22</td>\n",
       "      <td>3.691544e+08</td>\n",
       "      <td>0</td>\n",
       "      <td>0</td>\n",
       "      <td>0.360</td>\n",
       "      <td>1.1</td>\n",
       "      <td>39.56</td>\n",
       "    </tr>\n",
       "    <tr>\n",
       "      <th>1</th>\n",
       "      <td>-79.87</td>\n",
       "      <td>9.14</td>\n",
       "      <td>12.47</td>\n",
       "      <td>46</td>\n",
       "      <td>1</td>\n",
       "      <td>3</td>\n",
       "      <td>0</td>\n",
       "      <td>0</td>\n",
       "      <td>1</td>\n",
       "      <td>34.133999</td>\n",
       "      <td>1</td>\n",
       "      <td>22</td>\n",
       "      <td>3.691544e+08</td>\n",
       "      <td>0</td>\n",
       "      <td>0</td>\n",
       "      <td>0.112</td>\n",
       "      <td>1.1</td>\n",
       "      <td>39.87</td>\n",
       "    </tr>\n",
       "    <tr>\n",
       "      <th>2</th>\n",
       "      <td>-79.87</td>\n",
       "      <td>9.14</td>\n",
       "      <td>13.04</td>\n",
       "      <td>31</td>\n",
       "      <td>1</td>\n",
       "      <td>2</td>\n",
       "      <td>0</td>\n",
       "      <td>0</td>\n",
       "      <td>1</td>\n",
       "      <td>34.374001</td>\n",
       "      <td>1</td>\n",
       "      <td>22</td>\n",
       "      <td>3.691544e+08</td>\n",
       "      <td>0</td>\n",
       "      <td>0</td>\n",
       "      <td>0.144</td>\n",
       "      <td>0.7</td>\n",
       "      <td>40.91</td>\n",
       "    </tr>\n",
       "    <tr>\n",
       "      <th>3</th>\n",
       "      <td>-79.87</td>\n",
       "      <td>9.14</td>\n",
       "      <td>12.55</td>\n",
       "      <td>44</td>\n",
       "      <td>1</td>\n",
       "      <td>1</td>\n",
       "      <td>0</td>\n",
       "      <td>0</td>\n",
       "      <td>1</td>\n",
       "      <td>34.344002</td>\n",
       "      <td>1</td>\n",
       "      <td>22</td>\n",
       "      <td>3.691544e+08</td>\n",
       "      <td>0</td>\n",
       "      <td>0</td>\n",
       "      <td>0.296</td>\n",
       "      <td>1.5</td>\n",
       "      <td>40.41</td>\n",
       "    </tr>\n",
       "    <tr>\n",
       "      <th>4</th>\n",
       "      <td>-79.87</td>\n",
       "      <td>9.14</td>\n",
       "      <td>13.22</td>\n",
       "      <td>48</td>\n",
       "      <td>1</td>\n",
       "      <td>1</td>\n",
       "      <td>0</td>\n",
       "      <td>0</td>\n",
       "      <td>1</td>\n",
       "      <td>34.313999</td>\n",
       "      <td>1</td>\n",
       "      <td>22</td>\n",
       "      <td>3.691544e+08</td>\n",
       "      <td>0</td>\n",
       "      <td>0</td>\n",
       "      <td>0.304</td>\n",
       "      <td>1.6</td>\n",
       "      <td>41.04</td>\n",
       "    </tr>\n",
       "  </tbody>\n",
       "</table>\n",
       "</div>"
      ],
      "text/plain": [
       "       X     Y      Z  Intensity  ReturnNumber  NumberOfReturns  \\\n",
       "0 -79.87  9.14  12.16         58             1                3   \n",
       "1 -79.87  9.14  12.47         46             1                3   \n",
       "2 -79.87  9.14  13.04         31             1                2   \n",
       "3 -79.87  9.14  12.55         44             1                1   \n",
       "4 -79.87  9.14  13.22         48             1                1   \n",
       "\n",
       "   ScanDirectionFlag  EdgeOfFlightLine  Classification  ScanAngleRank  \\\n",
       "0                  0                 0               1      34.127998   \n",
       "1                  0                 0               1      34.133999   \n",
       "2                  0                 0               1      34.374001   \n",
       "3                  0                 0               1      34.344002   \n",
       "4                  0                 0               1      34.313999   \n",
       "\n",
       "   UserData  PointSourceId       GpsTime  ScanChannel  ClassFlags  \\\n",
       "0         1             22  3.691544e+08            0           0   \n",
       "1         1             22  3.691544e+08            0           0   \n",
       "2         1             22  3.691544e+08            0           0   \n",
       "3         1             22  3.691544e+08            0           0   \n",
       "4         1             22  3.691544e+08            0           0   \n",
       "\n",
       "   TargetThick  DevRatio   Zref  \n",
       "0        0.360       1.1  39.56  \n",
       "1        0.112       1.1  39.87  \n",
       "2        0.144       0.7  40.91  \n",
       "3        0.296       1.5  40.41  \n",
       "4        0.304       1.6  41.04  "
      ]
     },
     "execution_count": 11,
     "metadata": {},
     "output_type": "execute_result"
    }
   ],
   "source": [
    "df.head()"
   ]
  },
  {
   "cell_type": "code",
   "execution_count": 12,
   "id": "a96efb74-e7d5-40de-bc48-9603b4aa692d",
   "metadata": {},
   "outputs": [],
   "source": [
    "gdf = gpd.GeoDataFrame(df, geometry=gpd.points_from_xy(df.X, df.Y), crs=\"EPSG:4326\")"
   ]
  },
  {
   "cell_type": "code",
   "execution_count": 13,
   "id": "38971524-5577-4321-9590-8f0d1f15a570",
   "metadata": {
    "tags": []
   },
   "outputs": [
    {
     "data": {
      "text/html": [
       "<div>\n",
       "<style scoped>\n",
       "    .dataframe tbody tr th:only-of-type {\n",
       "        vertical-align: middle;\n",
       "    }\n",
       "\n",
       "    .dataframe tbody tr th {\n",
       "        vertical-align: top;\n",
       "    }\n",
       "\n",
       "    .dataframe thead th {\n",
       "        text-align: right;\n",
       "    }\n",
       "</style>\n",
       "<table border=\"1\" class=\"dataframe\">\n",
       "  <thead>\n",
       "    <tr style=\"text-align: right;\">\n",
       "      <th></th>\n",
       "      <th>X</th>\n",
       "      <th>Y</th>\n",
       "      <th>Z</th>\n",
       "      <th>Intensity</th>\n",
       "      <th>ReturnNumber</th>\n",
       "      <th>NumberOfReturns</th>\n",
       "      <th>ScanDirectionFlag</th>\n",
       "      <th>EdgeOfFlightLine</th>\n",
       "      <th>Classification</th>\n",
       "      <th>ScanAngleRank</th>\n",
       "      <th>UserData</th>\n",
       "      <th>PointSourceId</th>\n",
       "      <th>GpsTime</th>\n",
       "      <th>ScanChannel</th>\n",
       "      <th>ClassFlags</th>\n",
       "      <th>TargetThick</th>\n",
       "      <th>DevRatio</th>\n",
       "      <th>Zref</th>\n",
       "      <th>geometry</th>\n",
       "    </tr>\n",
       "  </thead>\n",
       "  <tbody>\n",
       "    <tr>\n",
       "      <th>0</th>\n",
       "      <td>-79.87</td>\n",
       "      <td>9.14</td>\n",
       "      <td>12.16</td>\n",
       "      <td>58</td>\n",
       "      <td>1</td>\n",
       "      <td>3</td>\n",
       "      <td>0</td>\n",
       "      <td>0</td>\n",
       "      <td>1</td>\n",
       "      <td>34.127998</td>\n",
       "      <td>1</td>\n",
       "      <td>22</td>\n",
       "      <td>3.691544e+08</td>\n",
       "      <td>0</td>\n",
       "      <td>0</td>\n",
       "      <td>0.360</td>\n",
       "      <td>1.1</td>\n",
       "      <td>39.56</td>\n",
       "      <td>POINT (-79.87000 9.14000)</td>\n",
       "    </tr>\n",
       "    <tr>\n",
       "      <th>1</th>\n",
       "      <td>-79.87</td>\n",
       "      <td>9.14</td>\n",
       "      <td>12.47</td>\n",
       "      <td>46</td>\n",
       "      <td>1</td>\n",
       "      <td>3</td>\n",
       "      <td>0</td>\n",
       "      <td>0</td>\n",
       "      <td>1</td>\n",
       "      <td>34.133999</td>\n",
       "      <td>1</td>\n",
       "      <td>22</td>\n",
       "      <td>3.691544e+08</td>\n",
       "      <td>0</td>\n",
       "      <td>0</td>\n",
       "      <td>0.112</td>\n",
       "      <td>1.1</td>\n",
       "      <td>39.87</td>\n",
       "      <td>POINT (-79.87000 9.14000)</td>\n",
       "    </tr>\n",
       "    <tr>\n",
       "      <th>2</th>\n",
       "      <td>-79.87</td>\n",
       "      <td>9.14</td>\n",
       "      <td>13.04</td>\n",
       "      <td>31</td>\n",
       "      <td>1</td>\n",
       "      <td>2</td>\n",
       "      <td>0</td>\n",
       "      <td>0</td>\n",
       "      <td>1</td>\n",
       "      <td>34.374001</td>\n",
       "      <td>1</td>\n",
       "      <td>22</td>\n",
       "      <td>3.691544e+08</td>\n",
       "      <td>0</td>\n",
       "      <td>0</td>\n",
       "      <td>0.144</td>\n",
       "      <td>0.7</td>\n",
       "      <td>40.91</td>\n",
       "      <td>POINT (-79.87000 9.14000)</td>\n",
       "    </tr>\n",
       "    <tr>\n",
       "      <th>3</th>\n",
       "      <td>-79.87</td>\n",
       "      <td>9.14</td>\n",
       "      <td>12.55</td>\n",
       "      <td>44</td>\n",
       "      <td>1</td>\n",
       "      <td>1</td>\n",
       "      <td>0</td>\n",
       "      <td>0</td>\n",
       "      <td>1</td>\n",
       "      <td>34.344002</td>\n",
       "      <td>1</td>\n",
       "      <td>22</td>\n",
       "      <td>3.691544e+08</td>\n",
       "      <td>0</td>\n",
       "      <td>0</td>\n",
       "      <td>0.296</td>\n",
       "      <td>1.5</td>\n",
       "      <td>40.41</td>\n",
       "      <td>POINT (-79.87000 9.14000)</td>\n",
       "    </tr>\n",
       "    <tr>\n",
       "      <th>4</th>\n",
       "      <td>-79.87</td>\n",
       "      <td>9.14</td>\n",
       "      <td>13.22</td>\n",
       "      <td>48</td>\n",
       "      <td>1</td>\n",
       "      <td>1</td>\n",
       "      <td>0</td>\n",
       "      <td>0</td>\n",
       "      <td>1</td>\n",
       "      <td>34.313999</td>\n",
       "      <td>1</td>\n",
       "      <td>22</td>\n",
       "      <td>3.691544e+08</td>\n",
       "      <td>0</td>\n",
       "      <td>0</td>\n",
       "      <td>0.304</td>\n",
       "      <td>1.6</td>\n",
       "      <td>41.04</td>\n",
       "      <td>POINT (-79.87000 9.14000)</td>\n",
       "    </tr>\n",
       "  </tbody>\n",
       "</table>\n",
       "</div>"
      ],
      "text/plain": [
       "       X     Y      Z  Intensity  ReturnNumber  NumberOfReturns  \\\n",
       "0 -79.87  9.14  12.16         58             1                3   \n",
       "1 -79.87  9.14  12.47         46             1                3   \n",
       "2 -79.87  9.14  13.04         31             1                2   \n",
       "3 -79.87  9.14  12.55         44             1                1   \n",
       "4 -79.87  9.14  13.22         48             1                1   \n",
       "\n",
       "   ScanDirectionFlag  EdgeOfFlightLine  Classification  ScanAngleRank  \\\n",
       "0                  0                 0               1      34.127998   \n",
       "1                  0                 0               1      34.133999   \n",
       "2                  0                 0               1      34.374001   \n",
       "3                  0                 0               1      34.344002   \n",
       "4                  0                 0               1      34.313999   \n",
       "\n",
       "   UserData  PointSourceId       GpsTime  ScanChannel  ClassFlags  \\\n",
       "0         1             22  3.691544e+08            0           0   \n",
       "1         1             22  3.691544e+08            0           0   \n",
       "2         1             22  3.691544e+08            0           0   \n",
       "3         1             22  3.691544e+08            0           0   \n",
       "4         1             22  3.691544e+08            0           0   \n",
       "\n",
       "   TargetThick  DevRatio   Zref                   geometry  \n",
       "0        0.360       1.1  39.56  POINT (-79.87000 9.14000)  \n",
       "1        0.112       1.1  39.87  POINT (-79.87000 9.14000)  \n",
       "2        0.144       0.7  40.91  POINT (-79.87000 9.14000)  \n",
       "3        0.296       1.5  40.41  POINT (-79.87000 9.14000)  \n",
       "4        0.304       1.6  41.04  POINT (-79.87000 9.14000)  "
      ]
     },
     "execution_count": 13,
     "metadata": {},
     "output_type": "execute_result"
    }
   ],
   "source": [
    "gdf.head()"
   ]
  },
  {
   "cell_type": "markdown",
   "id": "173c1fa1-e1f1-41d8-92ec-54545302981d",
   "metadata": {},
   "source": [
    "### Define a Point Cloud Layer"
   ]
  },
  {
   "cell_type": "code",
   "execution_count": null,
   "id": "2b402bc5-a0f8-43a8-890e-b84076c07538",
   "metadata": {},
   "outputs": [],
   "source": [
    "titiler_endpoint = \"https://titiler.maap-project.org\""
   ]
  },
  {
   "cell_type": "code",
   "execution_count": 129,
   "id": "4587a1c9-d74c-4f10-8f2a-d66f94007c0f",
   "metadata": {
    "tags": []
   },
   "outputs": [],
   "source": [
    "point_layer = ScatterplotLayer.from_geopandas(gdf)"
   ]
  },
  {
   "cell_type": "code",
   "execution_count": null,
   "id": "69f9a229-c023-492c-966e-1e0951ba903b",
   "metadata": {},
   "outputs": [],
   "source": [
    "point_layer.get_fill_color = apply_continuous_cmap(gdf[\"Intensity\"], YlGnBu_7, alpha=0.7)"
   ]
  },
  {
   "cell_type": "markdown",
   "id": "f866dc4a-6dc6-4fe0-a3a3-cd58c9b08ce4",
   "metadata": {},
   "source": [
    "### Read DTM Layer"
   ]
  },
  {
   "cell_type": "code",
   "execution_count": null,
   "id": "fc62fe17-2f15-4285-ad3b-091ea7719bfb",
   "metadata": {},
   "outputs": [],
   "source": [
    "dtm_layer_url = \"\""
   ]
  },
  {
   "cell_type": "code",
   "execution_count": null,
   "id": "964841d2-cd80-49b7-9aa2-c00b611b0c72",
   "metadata": {},
   "outputs": [],
   "source": [
    "dtm_tile_url = \"https://titiler.maap-project.org/cog/tiles/{z}/{x}/{y}?url=s3://maap-ops-workspace/shared/alexdevseed/geotrees/meta_chm_032221130_cog.tif&rescale=0,60&colormap_name=viridis\""
   ]
  },
  {
   "cell_type": "code",
   "execution_count": null,
   "id": "93955983-c098-4a61-a880-bd207149a25b",
   "metadata": {},
   "outputs": [],
   "source": [
    "r_dtm = httpx.get(\n",
    "    f\"{titiler_endpoint}/cog/info\",\n",
    "    params = {\n",
    "        \"url\": dtm_layer_url,\n",
    "    }\n",
    ").json()\n",
    "\n",
    "bounds_dtm = r_dtm[\"bounds\"]\n",
    "print(bounds_dtm)"
   ]
  },
  {
   "cell_type": "code",
   "execution_count": null,
   "id": "2bee044a-570f-4e0c-a33c-4956186a6d95",
   "metadata": {},
   "outputs": [],
   "source": [
    "dtm_layer = BitmapTileLayer(\n",
    "    data=dtm_tile_url,\n",
    "    tile_size=148,\n",
    "    max_requests=-1,\n",
    "    min_zoom=3,\n",
    "    max_zoom=18,\n",
    "    extent=bounds_dtm\n",
    ")"
   ]
  },
  {
   "cell_type": "markdown",
   "id": "1f8aea28-74a3-44cd-b7d4-6f4a88cdcd8f",
   "metadata": {},
   "source": [
    "### Read Final AGB Product Layer"
   ]
  },
  {
   "cell_type": "code",
   "execution_count": null,
   "id": "3c4b27ef-221d-4ce4-af0e-f0dc7a13c31e",
   "metadata": {},
   "outputs": [],
   "source": [
    "agb_product_url = \"\""
   ]
  },
  {
   "cell_type": "code",
   "execution_count": null,
   "id": "b26817d7-2288-4bd3-b32b-68380a4d271c",
   "metadata": {},
   "outputs": [],
   "source": [
    "agb_product_tile_url = \"https://titiler.maap-project.org/cog/tiles/{z}/{x}/{y}?url=s3://maap-ops-workspace/shared/alexdevseed/geotrees/meta_chm_032221130_cog.tif&rescale=0,60&colormap_name=viridis\""
   ]
  },
  {
   "cell_type": "code",
   "execution_count": null,
   "id": "e35b0a96-da86-47e5-8421-84abd1b9d0e4",
   "metadata": {},
   "outputs": [],
   "source": [
    "r_agb = httpx.get(\n",
    "    f\"{titiler_endpoint}/cog/info\",\n",
    "    params = {\n",
    "        \"url\": agb_product_url,\n",
    "    }\n",
    ").json()\n",
    "\n",
    "bounds_agb = r_agb[\"bounds\"]\n",
    "print(bounds_agb)"
   ]
  },
  {
   "cell_type": "code",
   "execution_count": null,
   "id": "dff0aadc-7c19-419a-8f28-90e60aecd7ea",
   "metadata": {},
   "outputs": [],
   "source": [
    "agb_product_layer = BitmapTileLayer(\n",
    "    data=agb_product_tile_url,\n",
    "    tile_size=148,\n",
    "    max_requests=-1,\n",
    "    min_zoom=3,\n",
    "    max_zoom=18,\n",
    "    extent=bounds\n",
    ")"
   ]
  },
  {
   "cell_type": "markdown",
   "id": "5701dd93-23b4-4697-9273-8c67fc3b42d8",
   "metadata": {},
   "source": [
    "### Create a Map Object for all the layers"
   ]
  },
  {
   "cell_type": "code",
   "execution_count": 130,
   "id": "f295328e-1c32-4b3a-8d43-e15c6cb53e28",
   "metadata": {
    "tags": []
   },
   "outputs": [
    {
     "data": {
      "application/vnd.jupyter.widget-view+json": {
       "model_id": "fb0bfa53b7df403bafbd28c4d3f9124a",
       "version_major": 2,
       "version_minor": 1
      },
      "text/plain": [
       "Map(layers=[ScatterplotLayer(table=pyarrow.Table\n",
       "X: float\n",
       "Y: float\n",
       "Z: float\n",
       "Intensity: uint8\n",
       "ReturnNumber: uin…"
      ]
     },
     "execution_count": 130,
     "metadata": {},
     "output_type": "execute_result"
    }
   ],
   "source": [
    "m = Map([point_layer, dtm_layer, agb_product_layer])\n",
    "m"
   ]
  }
 ],
 "metadata": {
  "kernelspec": {
   "display_name": "Python [conda env:pangeo] *",
   "language": "python",
   "name": "conda-env-pangeo-py"
  },
  "language_info": {
   "codemirror_mode": {
    "name": "ipython",
    "version": 3
   },
   "file_extension": ".py",
   "mimetype": "text/x-python",
   "name": "python",
   "nbconvert_exporter": "python",
   "pygments_lexer": "ipython3",
   "version": "3.10.13"
  }
 },
 "nbformat": 4,
 "nbformat_minor": 5
}
