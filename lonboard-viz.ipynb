{
 "cells": [
  {
   "cell_type": "markdown",
   "id": "56a301bb-74ef-4275-9c3d-419832f38297",
   "metadata": {},
   "source": [
    "# Visualization of Cloud-Optimized Earth Observation Data using Lonboard\n",
    "\n",
    "This tutorial illustrates processing and visualizing EO data - Cloud-Optimized GeoTIFFs (COGs) and Cloud-Optimized Point Clouds (COPCs) using [Lonboard](https://developmentseed.org/lonboard/latest/). Lonboard is capable of visualizing big raster and vector datasets including widely used image formats such as COGs and LiDAR data files such as COPCs, LAS file formats.\n",
    "\n",
    "In this tutorial, Airborne LiDAR Scanning (ALS) based point cloud for Panama, BCI is used for visualization along with the Above-ground Biomass (AGB) Estimate and [Meta's Canopy Height Model (CHM)](https://www.sciencedirect.com/science/article/pii/S003442572300439X?via%3Dihub) products. We created COGs for these products and use [TiTiler](https://developmentseed.org/titiler/) for dynamically serving tiles from the generated COGs for visualization. The point cloud represents normalized canopy cover heights generated from the raw point cloud data.\n",
    "\n",
    "Additional Resources:\n",
    "1. [Lonboard](https://developmentseed.org/lonboard/latest/)\n",
    "2. [TiTiler](https://developmentseed.org/titiler/)\n",
    "3. [Converting LiDAR LAS Files to Cloud-Optimized Point Clouds (COPCs)](https://guide.cloudnativegeo.org/copc/lidar-las-to-copc.html)\n",
    "4. [Introduction to Cloud-Optimized GeoTIFFs](https://guide.cloudnativegeo.org/cloud-optimized-geotiffs/intro.html)\n",
    "5. [PDAL](https://pdal.io/en/2.6.0/about.html#what-is-pdal)\n",
    "\n",
    "\n",
    "### Importing Packages\n",
    "\n",
    "We import the required packages for this tutorial.  "
   ]
  },
  {
   "cell_type": "code",
   "execution_count": 1,
   "id": "19162c1a-c8a6-4f56-bba5-e921e62b2477",
   "metadata": {
    "tags": []
   },
   "outputs": [
    {
     "name": "stderr",
     "output_type": "stream",
     "text": [
      "(PDAL Error) Can't load library /opt/conda/envs/pangeo/lib/libpdal_plugin_reader_draco.so: Failed to load \"/opt/conda/envs/pangeo/lib/libpdal_plugin_reader_draco.so\": libdraco.so.8: cannot open shared object file: No such file or directory(PDAL Error) Can't load library /opt/conda/envs/pangeo/lib/libpdal_plugin_writer_draco.so: Failed to load \"/opt/conda/envs/pangeo/lib/libpdal_plugin_writer_draco.so\": libdraco.so.8: cannot open shared object file: No such file or directory(PDAL Error) Can't load library /opt/conda/envs/pangeo/lib/libpdal_plugin_reader_draco.so: Failed to load \"/opt/conda/envs/pangeo/lib/libpdal_plugin_reader_draco.so\": libdraco.so.8: cannot open shared object file: No such file or directory(PDAL Error) Can't load library /opt/conda/envs/pangeo/lib/libpdal_plugin_writer_draco.so: Failed to load \"/opt/conda/envs/pangeo/lib/libpdal_plugin_writer_draco.so\": libdraco.so.8: cannot open shared object file: No such file or directory"
     ]
    }
   ],
   "source": [
    "import geopandas as gpd\n",
    "from lonboard import viz\n",
    "import pdal\n",
    "import pandas as pd\n",
    "import matplotlib.pyplot as plt\n",
    "import numpy as np\n",
    "from lonboard import Map, BitmapLayer, BitmapTileLayer, PointCloudLayer, PolygonLayer\n",
    "from lonboard.colormap import apply_continuous_cmap\n",
    "import httpx\n",
    "import json\n",
    "from palettable.colorbrewer.sequential import YlGnBu_7, Greens_3\n",
    "from palettable.colorbrewer.diverging import Spectral_9\n",
    "from matplotlib.colors import Normalize"
   ]
  },
  {
   "cell_type": "markdown",
   "id": "cae064e4-d351-4dde-90dc-18d6e3f68bea",
   "metadata": {},
   "source": [
    "Next, we define the path to the ALS LiDAR file in COPC format to be visualized."
   ]
  },
  {
   "cell_type": "code",
   "execution_count": 28,
   "id": "9d0a2a44-b5ca-4ad3-b4af-479437b0b650",
   "metadata": {
    "tags": []
   },
   "outputs": [],
   "source": [
    "out_file = \"data/ALS_ground_copc/outputs/norm_aoi/norm_chunk.copc.laz\""
   ]
  },
  {
   "cell_type": "markdown",
   "id": "913f3d74-7cb7-45e2-a321-09e9fae9ace7",
   "metadata": {},
   "source": [
    "### Reading the COPC file\n",
    "\n",
    "We read the COPC file using the PDAL python package. Also, we sample the number of points by a factor of 50, thus reducing the number of points for visualization to save memory. PDAL processes point cloud data by executing pipelines comprising of various operations (separated by `|` below). For more details, the readers are recommended to follow [Converting LiDAR LAS Files to Cloud-Optimized Point Clouds (COPCs)](https://guide.cloudnativegeo.org/copc/lidar-las-to-copc.html)."
   ]
  },
  {
   "cell_type": "code",
   "execution_count": 30,
   "id": "8344e336-a75b-4a44-a10b-7d357868c7cb",
   "metadata": {
    "tags": []
   },
   "outputs": [
    {
     "data": {
      "text/plain": [
       "1425310"
      ]
     },
     "execution_count": 30,
     "metadata": {},
     "output_type": "execute_result"
    }
   ],
   "source": [
    "pipeline = (pdal.Reader.copc(filename=out_file) | pdal.Filter.decimation(step=50) | pdal.Filter.stats())\n",
    "pipeline.execute()"
   ]
  },
  {
   "cell_type": "markdown",
   "id": "1b39a11c-04a3-4b77-a334-3dccc78e72d5",
   "metadata": {},
   "source": [
    "### Getting the Data Values\n",
    "\n",
    "The data values from an executed pipeline are retrieved by calling the `arrays` method."
   ]
  },
  {
   "cell_type": "code",
   "execution_count": 31,
   "id": "b09e11b4-26bb-4fe1-92c9-11eedf48e85a",
   "metadata": {
    "tags": []
   },
   "outputs": [],
   "source": [
    "# Getting array values\n",
    "arr_values = pipeline.arrays"
   ]
  },
  {
   "cell_type": "markdown",
   "id": "8a46dca2-832a-49c1-b3a7-c1ec4506f603",
   "metadata": {},
   "source": [
    "### Creating Geo-dataframe"
   ]
  },
  {
   "cell_type": "markdown",
   "id": "29e00637-bfaa-4a22-a526-ed101c768531",
   "metadata": {},
   "source": [
    "Now, we will create a data frame followed by a Geo-dataframe based on the data values. Lonboard requires the vector data as Geo-dataframe for visualization."
   ]
  },
  {
   "cell_type": "code",
   "execution_count": 32,
   "id": "733b22c3-111c-4fbe-b36f-720fe3b8db18",
   "metadata": {
    "tags": []
   },
   "outputs": [],
   "source": [
    "df = pd.DataFrame(arr_values[0])"
   ]
  },
  {
   "cell_type": "code",
   "execution_count": 33,
   "id": "a96efb74-e7d5-40de-bc48-9603b4aa692d",
   "metadata": {},
   "outputs": [],
   "source": [
    "gdf = gpd.GeoDataFrame(df, geometry=gpd.points_from_xy(df.X, df.Y, z=df.Z), crs=\"32617\")"
   ]
  },
  {
   "cell_type": "markdown",
   "id": "f7a31ae5-1af1-44d9-a3c7-457efaf1ed29",
   "metadata": {},
   "source": [
    "Also, Lonboard requires the Geo-dataframe to have its Spatial Reference System (SRS) as World Geodetic System 1984 (WGS 84). So, we re-project the geo-dataframe to `EPSG 4326`, which is the unique reference code for WGS 84."
   ]
  },
  {
   "cell_type": "code",
   "execution_count": 34,
   "id": "2aee6e91-e91c-47e5-8ff7-019a8e40c9e9",
   "metadata": {
    "tags": []
   },
   "outputs": [
    {
     "data": {
      "text/html": [
       "<div>\n",
       "<style scoped>\n",
       "    .dataframe tbody tr th:only-of-type {\n",
       "        vertical-align: middle;\n",
       "    }\n",
       "\n",
       "    .dataframe tbody tr th {\n",
       "        vertical-align: top;\n",
       "    }\n",
       "\n",
       "    .dataframe thead th {\n",
       "        text-align: right;\n",
       "    }\n",
       "</style>\n",
       "<table border=\"1\" class=\"dataframe\">\n",
       "  <thead>\n",
       "    <tr style=\"text-align: right;\">\n",
       "      <th></th>\n",
       "      <th>X</th>\n",
       "      <th>Y</th>\n",
       "      <th>Z</th>\n",
       "      <th>Intensity</th>\n",
       "      <th>ReturnNumber</th>\n",
       "      <th>NumberOfReturns</th>\n",
       "      <th>ScanDirectionFlag</th>\n",
       "      <th>EdgeOfFlightLine</th>\n",
       "      <th>Classification</th>\n",
       "      <th>ScanAngleRank</th>\n",
       "      <th>UserData</th>\n",
       "      <th>PointSourceId</th>\n",
       "      <th>GpsTime</th>\n",
       "      <th>ScanChannel</th>\n",
       "      <th>ClassFlags</th>\n",
       "      <th>TargetThick</th>\n",
       "      <th>DevRatio</th>\n",
       "      <th>Zref</th>\n",
       "      <th>geometry</th>\n",
       "    </tr>\n",
       "  </thead>\n",
       "  <tbody>\n",
       "    <tr>\n",
       "      <th>0</th>\n",
       "      <td>626687.45</td>\n",
       "      <td>1012332.20</td>\n",
       "      <td>7.43</td>\n",
       "      <td>6</td>\n",
       "      <td>3</td>\n",
       "      <td>3</td>\n",
       "      <td>0</td>\n",
       "      <td>0</td>\n",
       "      <td>1</td>\n",
       "      <td>-20.268000</td>\n",
       "      <td>1</td>\n",
       "      <td>13</td>\n",
       "      <td>3.691526e+08</td>\n",
       "      <td>0</td>\n",
       "      <td>0</td>\n",
       "      <td>0.000</td>\n",
       "      <td>1.2</td>\n",
       "      <td>155.32</td>\n",
       "      <td>POINT Z (-79.84697 9.15627 7.43000)</td>\n",
       "    </tr>\n",
       "    <tr>\n",
       "      <th>1</th>\n",
       "      <td>626679.39</td>\n",
       "      <td>1012333.98</td>\n",
       "      <td>0.16</td>\n",
       "      <td>12</td>\n",
       "      <td>4</td>\n",
       "      <td>4</td>\n",
       "      <td>0</td>\n",
       "      <td>0</td>\n",
       "      <td>2</td>\n",
       "      <td>-2.322000</td>\n",
       "      <td>1</td>\n",
       "      <td>14</td>\n",
       "      <td>3.691529e+08</td>\n",
       "      <td>0</td>\n",
       "      <td>0</td>\n",
       "      <td>0.120</td>\n",
       "      <td>0.8</td>\n",
       "      <td>149.12</td>\n",
       "      <td>POINT Z (-79.84704 9.15629 0.16000)</td>\n",
       "    </tr>\n",
       "    <tr>\n",
       "      <th>2</th>\n",
       "      <td>626682.74</td>\n",
       "      <td>1012344.07</td>\n",
       "      <td>1.74</td>\n",
       "      <td>18</td>\n",
       "      <td>3</td>\n",
       "      <td>3</td>\n",
       "      <td>0</td>\n",
       "      <td>0</td>\n",
       "      <td>1</td>\n",
       "      <td>24.612000</td>\n",
       "      <td>1</td>\n",
       "      <td>15</td>\n",
       "      <td>3.691531e+08</td>\n",
       "      <td>0</td>\n",
       "      <td>0</td>\n",
       "      <td>0.120</td>\n",
       "      <td>0.9</td>\n",
       "      <td>151.55</td>\n",
       "      <td>POINT Z (-79.84701 9.15638 1.74000)</td>\n",
       "    </tr>\n",
       "    <tr>\n",
       "      <th>3</th>\n",
       "      <td>626718.76</td>\n",
       "      <td>1012332.77</td>\n",
       "      <td>22.91</td>\n",
       "      <td>45</td>\n",
       "      <td>1</td>\n",
       "      <td>3</td>\n",
       "      <td>0</td>\n",
       "      <td>0</td>\n",
       "      <td>1</td>\n",
       "      <td>-19.230000</td>\n",
       "      <td>3</td>\n",
       "      <td>13</td>\n",
       "      <td>3.691526e+08</td>\n",
       "      <td>0</td>\n",
       "      <td>0</td>\n",
       "      <td>0.080</td>\n",
       "      <td>0.9</td>\n",
       "      <td>169.69</td>\n",
       "      <td>POINT Z (-79.84668 9.15628 22.91000)</td>\n",
       "    </tr>\n",
       "    <tr>\n",
       "      <th>4</th>\n",
       "      <td>626721.90</td>\n",
       "      <td>1012345.96</td>\n",
       "      <td>14.93</td>\n",
       "      <td>71</td>\n",
       "      <td>1</td>\n",
       "      <td>1</td>\n",
       "      <td>0</td>\n",
       "      <td>0</td>\n",
       "      <td>1</td>\n",
       "      <td>-17.724001</td>\n",
       "      <td>1</td>\n",
       "      <td>13</td>\n",
       "      <td>3.691526e+08</td>\n",
       "      <td>0</td>\n",
       "      <td>0</td>\n",
       "      <td>0.152</td>\n",
       "      <td>1.6</td>\n",
       "      <td>162.03</td>\n",
       "      <td>POINT Z (-79.84666 9.15640 14.93000)</td>\n",
       "    </tr>\n",
       "  </tbody>\n",
       "</table>\n",
       "</div>"
      ],
      "text/plain": [
       "           X           Y      Z  Intensity  ReturnNumber  NumberOfReturns  \\\n",
       "0  626687.45  1012332.20   7.43          6             3                3   \n",
       "1  626679.39  1012333.98   0.16         12             4                4   \n",
       "2  626682.74  1012344.07   1.74         18             3                3   \n",
       "3  626718.76  1012332.77  22.91         45             1                3   \n",
       "4  626721.90  1012345.96  14.93         71             1                1   \n",
       "\n",
       "   ScanDirectionFlag  EdgeOfFlightLine  Classification  ScanAngleRank  \\\n",
       "0                  0                 0               1     -20.268000   \n",
       "1                  0                 0               2      -2.322000   \n",
       "2                  0                 0               1      24.612000   \n",
       "3                  0                 0               1     -19.230000   \n",
       "4                  0                 0               1     -17.724001   \n",
       "\n",
       "   UserData  PointSourceId       GpsTime  ScanChannel  ClassFlags  \\\n",
       "0         1             13  3.691526e+08            0           0   \n",
       "1         1             14  3.691529e+08            0           0   \n",
       "2         1             15  3.691531e+08            0           0   \n",
       "3         3             13  3.691526e+08            0           0   \n",
       "4         1             13  3.691526e+08            0           0   \n",
       "\n",
       "   TargetThick  DevRatio    Zref                              geometry  \n",
       "0        0.000       1.2  155.32   POINT Z (-79.84697 9.15627 7.43000)  \n",
       "1        0.120       0.8  149.12   POINT Z (-79.84704 9.15629 0.16000)  \n",
       "2        0.120       0.9  151.55   POINT Z (-79.84701 9.15638 1.74000)  \n",
       "3        0.080       0.9  169.69  POINT Z (-79.84668 9.15628 22.91000)  \n",
       "4        0.152       1.6  162.03  POINT Z (-79.84666 9.15640 14.93000)  "
      ]
     },
     "execution_count": 34,
     "metadata": {},
     "output_type": "execute_result"
    }
   ],
   "source": [
    "gdf_proj = gdf.to_crs(4326)\n",
    "gdf_proj.head()"
   ]
  },
  {
   "cell_type": "markdown",
   "id": "c8c6628d-ae2d-4ac6-b8f8-3dd418295150",
   "metadata": {},
   "source": [
    "In order to save memory, we delete the unrequired data frames. Also, we drop the columns which are not relevant for the visulization."
   ]
  },
  {
   "cell_type": "code",
   "execution_count": 35,
   "id": "6c713e63-d6c4-40fc-a578-5c4366ec634b",
   "metadata": {
    "tags": []
   },
   "outputs": [],
   "source": [
    "# Deleting not required dataframes\n",
    "del(df)\n",
    "del(gdf)"
   ]
  },
  {
   "cell_type": "code",
   "execution_count": 36,
   "id": "05200fea-2a0f-4df6-a8ca-6e2c8be92f0a",
   "metadata": {},
   "outputs": [],
   "source": [
    "#Dropping not required columns\n",
    "gdf_proj = gdf_proj.drop(['ReturnNumber', 'NumberOfReturns', 'ScanDirectionFlag', 'EdgeOfFlightLine', 'ScanAngleRank', 'UserData', 'PointSourceId', 'GpsTime', 'Intensity', 'Classification', 'ScanChannel', 'ClassFlags', 'TargetThick', 'DevRatio', 'Zref'], axis=1)"
   ]
  },
  {
   "cell_type": "markdown",
   "id": "173c1fa1-e1f1-41d8-92ec-54545302981d",
   "metadata": {},
   "source": [
    "### Define a Point Cloud Layer\n",
    "\n",
    "We define a Point Cloud Layer based on the geo-dataframe."
   ]
  },
  {
   "cell_type": "code",
   "execution_count": 37,
   "id": "4587a1c9-d74c-4f10-8f2a-d66f94007c0f",
   "metadata": {
    "tags": []
   },
   "outputs": [],
   "source": [
    "point_layer = PointCloudLayer.from_geopandas(gdf_proj, point_size=2)"
   ]
  },
  {
   "cell_type": "markdown",
   "id": "fa7d17d8-9d9c-43b3-b08f-749b01431aba",
   "metadata": {},
   "source": [
    "### Styling Point Cloud Layer\n",
    "\n",
    "Here, we normalize the elevation values and create a color map for visualizing the point cloud layer. "
   ]
  },
  {
   "cell_type": "code",
   "execution_count": 38,
   "id": "5b46b2c6-f0bf-4d54-9aa7-37640ad3c09f",
   "metadata": {
    "tags": []
   },
   "outputs": [],
   "source": [
    "normalizer = Normalize(1, gdf_proj[\"Z\"].max(), clip=True)\n",
    "normalized_heights = normalizer(gdf_proj[\"Z\"])"
   ]
  },
  {
   "cell_type": "code",
   "execution_count": 39,
   "id": "69f9a229-c023-492c-966e-1e0951ba903b",
   "metadata": {},
   "outputs": [],
   "source": [
    "point_layer.get_color = apply_continuous_cmap(normalized_heights, Greens_3, alpha=0.6)"
   ]
  },
  {
   "cell_type": "markdown",
   "id": "1f8aea28-74a3-44cd-b7d4-6f4a88cdcd8f",
   "metadata": {},
   "source": [
    "### Reading AGB Product Layer\n",
    "\n",
    "For visualizing COGs, we use `BitmapTileLayer` which renders tiles dynamically generated by TiTiler."
   ]
  },
  {
   "cell_type": "code",
   "execution_count": 40,
   "id": "94bcac1e-a84f-4737-8aee-7b62188c62c5",
   "metadata": {
    "tags": []
   },
   "outputs": [],
   "source": [
    "titiler_endpoint = \"https://titiler.maap-project.org\""
   ]
  },
  {
   "cell_type": "code",
   "execution_count": 41,
   "id": "3c4b27ef-221d-4ce4-af0e-f0dc7a13c31e",
   "metadata": {},
   "outputs": [],
   "source": [
    "#AGB product stored locally in MAAP workspace\n",
    "agb_product_url = \"s3://maap-ops-workspace/shared/omshinde23/agbd.tif\""
   ]
  },
  {
   "cell_type": "code",
   "execution_count": 42,
   "id": "b26817d7-2288-4bd3-b32b-68380a4d271c",
   "metadata": {},
   "outputs": [],
   "source": [
    "agb_product_tile_url = \"https://titiler.maap-project.org/cog/tiles/{z}/{x}/{y}?url=s3://maap-ops-workspace/shared/omshinde23/agbd.tif&bidx=5&rescale=0,600&colormap_name=viridis\""
   ]
  },
  {
   "cell_type": "code",
   "execution_count": 43,
   "id": "e35b0a96-da86-47e5-8421-84abd1b9d0e4",
   "metadata": {},
   "outputs": [
    {
     "name": "stdout",
     "output_type": "stream",
     "text": [
      "[-79.87926821173158, 9.121956517182756, -79.81171917965493, 9.186829702218509]\n"
     ]
    }
   ],
   "source": [
    "r_agb = httpx.get(\n",
    "    f\"{titiler_endpoint}/cog/info\",\n",
    "    params = {\n",
    "        \"url\": agb_product_url,\n",
    "    }\n",
    ").json()\n",
    "\n",
    "bounds_agb = r_agb[\"bounds\"]\n",
    "print(bounds_agb)"
   ]
  },
  {
   "cell_type": "code",
   "execution_count": 44,
   "id": "dff0aadc-7c19-419a-8f28-90e60aecd7ea",
   "metadata": {},
   "outputs": [],
   "source": [
    "agb_product_layer = BitmapTileLayer(\n",
    "    data=agb_product_tile_url,\n",
    "    tile_size=148,\n",
    "    max_requests=-1,\n",
    "    min_zoom=3,\n",
    "    max_zoom=18,\n",
    "    extent=bounds_agb\n",
    ")"
   ]
  },
  {
   "cell_type": "markdown",
   "id": "b37695a2-1320-4de4-b3ed-59bbf0e60241",
   "metadata": {},
   "source": [
    "### Reading BCI Trails 2022 layer\n",
    "\n",
    "In addition to the point cloud layer and the AGB product layer, we add the BCI Trails 2022 layer downloaded locally for the visualization. \n",
    "\n",
    "Source: [Barro Colorado Trail systems update 2022](https://stridata-si.opendata.arcgis.com/datasets/SI::bci-trails-2022/explore?location=0.000302%2C-79.844095%2C0.00)"
   ]
  },
  {
   "cell_type": "code",
   "execution_count": 45,
   "id": "7b318ef3-a097-4dc6-ae95-fe8a6a5a3ad7",
   "metadata": {
    "tags": []
   },
   "outputs": [
    {
     "data": {
      "text/html": [
       "<div>\n",
       "<style scoped>\n",
       "    .dataframe tbody tr th:only-of-type {\n",
       "        vertical-align: middle;\n",
       "    }\n",
       "\n",
       "    .dataframe tbody tr th {\n",
       "        vertical-align: top;\n",
       "    }\n",
       "\n",
       "    .dataframe thead th {\n",
       "        text-align: right;\n",
       "    }\n",
       "</style>\n",
       "<table border=\"1\" class=\"dataframe\">\n",
       "  <thead>\n",
       "    <tr style=\"text-align: right;\">\n",
       "      <th></th>\n",
       "      <th>NAME</th>\n",
       "      <th>FullName</th>\n",
       "      <th>TYPE</th>\n",
       "      <th>LABEL</th>\n",
       "      <th>GlobalID</th>\n",
       "      <th>geometry</th>\n",
       "    </tr>\n",
       "  </thead>\n",
       "  <tbody>\n",
       "    <tr>\n",
       "      <th>0</th>\n",
       "      <td>Harvard</td>\n",
       "      <td>Harvard University</td>\n",
       "      <td>Official Trail</td>\n",
       "      <td>Harvard</td>\n",
       "      <td>57c9f376-c503-4cc7-a726-7dbfb94d7eab</td>\n",
       "      <td>LINESTRING (628307.169 1012001.681, 628325.366...</td>\n",
       "    </tr>\n",
       "    <tr>\n",
       "      <th>1</th>\n",
       "      <td>Chapman</td>\n",
       "      <td>Frank M. Chapman</td>\n",
       "      <td>Official Trail</td>\n",
       "      <td>Chapman</td>\n",
       "      <td>cc890b54-0cef-478d-a430-8b91c3417392</td>\n",
       "      <td>LINESTRING (628324.057 1012070.975, 628336.246...</td>\n",
       "    </tr>\n",
       "    <tr>\n",
       "      <th>2</th>\n",
       "      <td>T. Barbour</td>\n",
       "      <td>Thomas Barbour</td>\n",
       "      <td>Official Trail</td>\n",
       "      <td>T. Barbour</td>\n",
       "      <td>de8e8f6c-ec5f-40ae-9b80-a07daea0fd23</td>\n",
       "      <td>LINESTRING (627565.566 1012934.428, 627572.856...</td>\n",
       "    </tr>\n",
       "    <tr>\n",
       "      <th>3</th>\n",
       "      <td>Hood</td>\n",
       "      <td>J. Douglas Hood</td>\n",
       "      <td>Official Trail</td>\n",
       "      <td>Hood</td>\n",
       "      <td>e7ba1fb5-03ac-4e5c-8d6a-c9d31955b1cc</td>\n",
       "      <td>LINESTRING (628602.380 1012605.884, 628605.737...</td>\n",
       "    </tr>\n",
       "    <tr>\n",
       "      <th>4</th>\n",
       "      <td>Van Tyne</td>\n",
       "      <td>Josselyn Van Tyne</td>\n",
       "      <td>Official Trail</td>\n",
       "      <td>Van Tyne</td>\n",
       "      <td>8a5646f3-9b31-4ee7-bbce-f75ffff47244</td>\n",
       "      <td>LINESTRING (628100.448 1012528.073, 628113.856...</td>\n",
       "    </tr>\n",
       "  </tbody>\n",
       "</table>\n",
       "</div>"
      ],
      "text/plain": [
       "         NAME            FullName            TYPE       LABEL  \\\n",
       "0     Harvard  Harvard University  Official Trail     Harvard   \n",
       "1     Chapman    Frank M. Chapman  Official Trail     Chapman   \n",
       "2  T. Barbour      Thomas Barbour  Official Trail  T. Barbour   \n",
       "3        Hood     J. Douglas Hood  Official Trail        Hood   \n",
       "4    Van Tyne   Josselyn Van Tyne  Official Trail    Van Tyne   \n",
       "\n",
       "                               GlobalID  \\\n",
       "0  57c9f376-c503-4cc7-a726-7dbfb94d7eab   \n",
       "1  cc890b54-0cef-478d-a430-8b91c3417392   \n",
       "2  de8e8f6c-ec5f-40ae-9b80-a07daea0fd23   \n",
       "3  e7ba1fb5-03ac-4e5c-8d6a-c9d31955b1cc   \n",
       "4  8a5646f3-9b31-4ee7-bbce-f75ffff47244   \n",
       "\n",
       "                                            geometry  \n",
       "0  LINESTRING (628307.169 1012001.681, 628325.366...  \n",
       "1  LINESTRING (628324.057 1012070.975, 628336.246...  \n",
       "2  LINESTRING (627565.566 1012934.428, 627572.856...  \n",
       "3  LINESTRING (628602.380 1012605.884, 628605.737...  \n",
       "4  LINESTRING (628100.448 1012528.073, 628113.856...  "
      ]
     },
     "execution_count": 45,
     "metadata": {},
     "output_type": "execute_result"
    }
   ],
   "source": [
    "url = \"./BCI_Trails_2022_-8446373283477327423.zip\"\n",
    "gdf_trail = gpd.read_file(url, engine=\"pyogrio\")\n",
    "gdf_trail.head()"
   ]
  },
  {
   "cell_type": "code",
   "execution_count": 49,
   "id": "d690f0df-7804-415a-ab62-d608a3c8dd33",
   "metadata": {
    "tags": []
   },
   "outputs": [
    {
     "data": {
      "text/html": [
       "<div>\n",
       "<style scoped>\n",
       "    .dataframe tbody tr th:only-of-type {\n",
       "        vertical-align: middle;\n",
       "    }\n",
       "\n",
       "    .dataframe tbody tr th {\n",
       "        vertical-align: top;\n",
       "    }\n",
       "\n",
       "    .dataframe thead th {\n",
       "        text-align: right;\n",
       "    }\n",
       "</style>\n",
       "<table border=\"1\" class=\"dataframe\">\n",
       "  <thead>\n",
       "    <tr style=\"text-align: right;\">\n",
       "      <th></th>\n",
       "      <th>NAME</th>\n",
       "      <th>FullName</th>\n",
       "      <th>TYPE</th>\n",
       "      <th>LABEL</th>\n",
       "      <th>GlobalID</th>\n",
       "      <th>geometry</th>\n",
       "    </tr>\n",
       "  </thead>\n",
       "  <tbody>\n",
       "    <tr>\n",
       "      <th>0</th>\n",
       "      <td>Harvard</td>\n",
       "      <td>Harvard University</td>\n",
       "      <td>Official Trail</td>\n",
       "      <td>Harvard</td>\n",
       "      <td>57c9f376-c503-4cc7-a726-7dbfb94d7eab</td>\n",
       "      <td>LINESTRING (-79.83224 9.15324, -79.83207 9.153...</td>\n",
       "    </tr>\n",
       "    <tr>\n",
       "      <th>1</th>\n",
       "      <td>Chapman</td>\n",
       "      <td>Frank M. Chapman</td>\n",
       "      <td>Official Trail</td>\n",
       "      <td>Chapman</td>\n",
       "      <td>cc890b54-0cef-478d-a430-8b91c3417392</td>\n",
       "      <td>LINESTRING (-79.83208 9.15386, -79.83197 9.153...</td>\n",
       "    </tr>\n",
       "    <tr>\n",
       "      <th>2</th>\n",
       "      <td>T. Barbour</td>\n",
       "      <td>Thomas Barbour</td>\n",
       "      <td>Official Trail</td>\n",
       "      <td>T. Barbour</td>\n",
       "      <td>de8e8f6c-ec5f-40ae-9b80-a07daea0fd23</td>\n",
       "      <td>LINESTRING (-79.83896 9.16169, -79.83890 9.161...</td>\n",
       "    </tr>\n",
       "    <tr>\n",
       "      <th>3</th>\n",
       "      <td>Hood</td>\n",
       "      <td>J. Douglas Hood</td>\n",
       "      <td>Official Trail</td>\n",
       "      <td>Hood</td>\n",
       "      <td>e7ba1fb5-03ac-4e5c-8d6a-c9d31955b1cc</td>\n",
       "      <td>LINESTRING (-79.82954 9.15869, -79.82951 9.158...</td>\n",
       "    </tr>\n",
       "    <tr>\n",
       "      <th>4</th>\n",
       "      <td>Van Tyne</td>\n",
       "      <td>Josselyn Van Tyne</td>\n",
       "      <td>Official Trail</td>\n",
       "      <td>Van Tyne</td>\n",
       "      <td>8a5646f3-9b31-4ee7-bbce-f75ffff47244</td>\n",
       "      <td>LINESTRING (-79.83411 9.15800, -79.83398 9.157...</td>\n",
       "    </tr>\n",
       "  </tbody>\n",
       "</table>\n",
       "</div>"
      ],
      "text/plain": [
       "         NAME            FullName            TYPE       LABEL  \\\n",
       "0     Harvard  Harvard University  Official Trail     Harvard   \n",
       "1     Chapman    Frank M. Chapman  Official Trail     Chapman   \n",
       "2  T. Barbour      Thomas Barbour  Official Trail  T. Barbour   \n",
       "3        Hood     J. Douglas Hood  Official Trail        Hood   \n",
       "4    Van Tyne   Josselyn Van Tyne  Official Trail    Van Tyne   \n",
       "\n",
       "                               GlobalID  \\\n",
       "0  57c9f376-c503-4cc7-a726-7dbfb94d7eab   \n",
       "1  cc890b54-0cef-478d-a430-8b91c3417392   \n",
       "2  de8e8f6c-ec5f-40ae-9b80-a07daea0fd23   \n",
       "3  e7ba1fb5-03ac-4e5c-8d6a-c9d31955b1cc   \n",
       "4  8a5646f3-9b31-4ee7-bbce-f75ffff47244   \n",
       "\n",
       "                                            geometry  \n",
       "0  LINESTRING (-79.83224 9.15324, -79.83207 9.153...  \n",
       "1  LINESTRING (-79.83208 9.15386, -79.83197 9.153...  \n",
       "2  LINESTRING (-79.83896 9.16169, -79.83890 9.161...  \n",
       "3  LINESTRING (-79.82954 9.15869, -79.82951 9.158...  \n",
       "4  LINESTRING (-79.83411 9.15800, -79.83398 9.157...  "
      ]
     },
     "execution_count": 49,
     "metadata": {},
     "output_type": "execute_result"
    }
   ],
   "source": [
    "#Converting the geometry to EPSG:4326\n",
    "gdf_trail_proj = gdf_trail.to_crs(4326)\n",
    "gdf_trail_proj.head()"
   ]
  },
  {
   "cell_type": "markdown",
   "id": "6835025e-b8b1-492b-a5f8-574674e8c231",
   "metadata": {
    "tags": []
   },
   "source": [
    "### Creating Map Visualization for AGB Layer\n",
    "\n",
    "Here, we visualize the AGB layer and point cloud layer in a single `Map` widget. The readers are recommended to use `Ctrl+Click+Drag` to change the viewing angle. Also, hover over the BCI trails to get more information about a particular trail."
   ]
  },
  {
   "cell_type": "code",
   "execution_count": 50,
   "id": "0b2db645-0671-4b9f-aad3-8fea3b9a955a",
   "metadata": {
    "tags": []
   },
   "outputs": [],
   "source": [
    "#Function for generating colormap for AGB and CHM layer legend\n",
    "\n",
    "def plot_colormap(gradient_max, title, cmap):\n",
    "    \n",
    "    gradient = np.linspace(0, 10, gradient_max)\n",
    "    gradient = np.vstack((gradient, gradient))\n",
    "    \n",
    "    # Create figure and adjust figure height to number of colormaps\n",
    "    nrows = 1\n",
    "    figh = 0.35 + 0.15 + (nrows + (nrows-1)*0.1)*0.22\n",
    "    fig, axs = plt.subplots(nrows=nrows, figsize=(6.4, figh))\n",
    "    fig.subplots_adjust(top=1-.35/figh, bottom=.15/figh, left=0.2, right=0.99)\n",
    "    \n",
    "    axs.get_yaxis().set_visible(False)\n",
    "\n",
    "    axs.set_title(title, fontsize=14)\n",
    "    axs.imshow(gradient, aspect='auto', cmap=cmap)"
   ]
  },
  {
   "cell_type": "code",
   "execution_count": 57,
   "id": "47e658c5-c4f2-46cf-8348-437a70e05864",
   "metadata": {},
   "outputs": [],
   "source": [
    "from lonboard import Map, PathLayer\n",
    "trail_layer = PathLayer.from_geopandas(gdf_trail_proj, width_min_pixels=2.5)\n",
    "trail_layer.auto_highlight = True"
   ]
  },
  {
   "cell_type": "code",
   "execution_count": 58,
   "id": "2af63d88-5c25-4c86-a7b3-28187d579f62",
   "metadata": {
    "tags": []
   },
   "outputs": [
    {
     "data": {
      "application/vnd.jupyter.widget-view+json": {
       "model_id": "e659191b144c4737891ebedef982b99a",
       "version_major": 2,
       "version_minor": 1
      },
      "text/plain": [
       "Map(layers=[BitmapTileLayer(data='https://titiler.maap-project.org/cog/tiles/{z}/{x}/{y}?url=s3://maap-ops-wor…"
      ]
     },
     "execution_count": 58,
     "metadata": {},
     "output_type": "execute_result"
    }
   ],
   "source": [
    "m = Map([agb_product_layer, trail_layer, point_layer])\n",
    "m"
   ]
  },
  {
   "cell_type": "code",
   "execution_count": 59,
   "id": "e4be052d-12e0-4efe-9bde-8e2d5e819e66",
   "metadata": {
    "tags": []
   },
   "outputs": [
    {
     "data": {
      "image/png": "[encoded data removed]",
      "text/plain": [
       "<Figure size 640x72 with 1 Axes>"
      ]
     },
     "metadata": {},
     "output_type": "display_data"
    }
   ],
   "source": [
    "# AGB values range 0-600, so gradient_max = 601\n",
    "plot_colormap(601, \"AGB Layer Legend\",'viridis')"
   ]
  },
  {
   "cell_type": "markdown",
   "id": "3ce53957-2cea-47d2-8fdd-bde0cbc2398e",
   "metadata": {},
   "source": [
    "### Reading META CHM Layer\n",
    "\n",
    "Now, we visualize the META CHM layer with the point cloud layer."
   ]
  },
  {
   "cell_type": "code",
   "execution_count": 60,
   "id": "0bf6f641-a7a5-4d3b-afa3-1df34995471c",
   "metadata": {
    "tags": []
   },
   "outputs": [],
   "source": [
    "chm_product_url = \"s3://maap-ops-workspace/shared/omshinde23/meta_chm_new.tif\""
   ]
  },
  {
   "cell_type": "code",
   "execution_count": 61,
   "id": "1a1c6c85-15a4-4907-81fe-a35faeada2a4",
   "metadata": {
    "tags": []
   },
   "outputs": [],
   "source": [
    "chm_product_tile_url = \"https://titiler.maap-project.org/cog/tiles/{z}/{x}/{y}?url=s3://maap-ops-workspace/shared/omshinde23/meta_chm_new.tif&rescale=0,60&colormap_name=viridis\""
   ]
  },
  {
   "cell_type": "code",
   "execution_count": 62,
   "id": "c967a8d4-c3a3-4db8-8230-c472c12c5dfc",
   "metadata": {
    "tags": []
   },
   "outputs": [
    {
     "name": "stdout",
     "output_type": "stream",
     "text": [
      "[-79.87929430332252, 9.122007215999078, -79.81190140986412, 9.187029513446365]\n"
     ]
    }
   ],
   "source": [
    "r_chm = httpx.get(\n",
    "    f\"{titiler_endpoint}/cog/info\",\n",
    "    params = {\n",
    "        \"url\": chm_product_url,\n",
    "    }\n",
    ").json()\n",
    "\n",
    "bounds_chm = r_chm[\"bounds\"]\n",
    "print(bounds_chm)"
   ]
  },
  {
   "cell_type": "code",
   "execution_count": 63,
   "id": "bad756e6-7f53-41ac-9794-2f42ea0a3021",
   "metadata": {
    "tags": []
   },
   "outputs": [],
   "source": [
    "chm_product_layer = BitmapTileLayer(\n",
    "    data=chm_product_tile_url,\n",
    "    tile_size=148,\n",
    "    max_requests=-1,\n",
    "    min_zoom=3,\n",
    "    max_zoom=18,\n",
    "    extent=bounds_chm\n",
    ")"
   ]
  },
  {
   "cell_type": "code",
   "execution_count": 66,
   "id": "f295328e-1c32-4b3a-8d43-e15c6cb53e28",
   "metadata": {
    "tags": []
   },
   "outputs": [
    {
     "data": {
      "application/vnd.jupyter.widget-view+json": {
       "model_id": "6f0ed0e34b694c6da1d65f719f6fbd6d",
       "version_major": 2,
       "version_minor": 1
      },
      "text/plain": [
       "Map(layers=[BitmapTileLayer(data='https://titiler.maap-project.org/cog/tiles/{z}/{x}/{y}?url=s3://maap-ops-wor…"
      ]
     },
     "execution_count": 66,
     "metadata": {},
     "output_type": "execute_result"
    }
   ],
   "source": [
    "m1 = Map([chm_product_layer, trail_layer, point_layer])\n",
    "m1"
   ]
  },
  {
   "cell_type": "code",
   "execution_count": 68,
   "id": "d62643e6-0af7-4382-9393-d62f43081f21",
   "metadata": {
    "tags": []
   },
   "outputs": [
    {
     "data": {
      "image/png": "[encoded data removed]",
      "text/plain": [
       "<Figure size 640x72 with 1 Axes>"
      ]
     },
     "metadata": {},
     "output_type": "display_data"
    }
   ],
   "source": [
    "plot_colormap(61, \"Meta CHM Layer Legend\",'viridis')"
   ]
  }
 ],
 "metadata": {
  "kernelspec": {
   "display_name": "Python [conda env:pangeo] *",
   "language": "python",
   "name": "conda-env-pangeo-py"
  },
  "language_info": {
   "codemirror_mode": {
    "name": "ipython",
    "version": 3
   },
   "file_extension": ".py",
   "mimetype": "text/x-python",
   "name": "python",
   "nbconvert_exporter": "python",
   "pygments_lexer": "ipython3",
   "version": "3.10.13"
  }
 },
 "nbformat": 4,
 "nbformat_minor": 5
}
