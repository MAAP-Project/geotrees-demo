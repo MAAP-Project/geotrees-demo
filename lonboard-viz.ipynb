{
 "cells": [
  {
   "cell_type": "markdown",
   "id": "56a301bb-74ef-4275-9c3d-419832f38297",
   "metadata": {},
   "source": [
    "# Visualization of Cloud-Optimized Earth Observation Data using Lonboard\n",
    "\n",
    "This tutorial illustrates processing and visualizing EO data - Cloud-Optimized GeoTIFFs (COGs) and Cloud-Optimized Point Clouds (COPCs) using [Lonboard](https://developmentseed.org/lonboard/latest/). Lonboard is capable of visualizing big raster and vector datasets including widely used image formats such as COGs and LiDAR data files such as COPCs, LAS file formats.\n",
    "\n",
    "In this tutorial, Airborne LiDAR Scanning (ALS) based point cloud for Panama, BCI is used for visualization along with the Above-ground Biomass (AGB) Estimate COG and [Meta's Canopy Height Model (CHM) COG products. For COG visualization, we use [TiTiler](https://developmentseed.org/titiler/) for dynamically serving tiles from the generated COGs. The point cloud represents normalized canopy cover heights generated from the raw point cloud data.\n",
    "\n",
    "Additional Resources:\n",
    "1. [Lonboard](https://developmentseed.org/lonboard/latest/)\n",
    "2. [TiTiler](https://developmentseed.org/titiler/)\n",
    "3. [Converting LiDAR LAS Files to Cloud-Optimized Point Clouds (COPCs)](https://guide.cloudnativegeo.org/copc/lidar-las-to-copc.html)\n",
    "4. [Introduction to Cloud-Optimized GeoTIFFs](https://guide.cloudnativegeo.org/cloud-optimized-geotiffs/intro.html)\n",
    "5. [PDAL](https://pdal.io/en/2.6.0/about.html#what-is-pdal)\n",
    "\n",
    "\n",
    "### Importing Packages\n",
    "\n",
    "We import the required packages for this tutorial.  "
   ]
  },
  {
   "cell_type": "code",
   "execution_count": 52,
   "id": "19162c1a-c8a6-4f56-bba5-e921e62b2477",
   "metadata": {
    "tags": []
   },
   "outputs": [],
   "source": [
    "import geopandas as gpd\n",
    "from lonboard import viz\n",
    "import pdal\n",
    "import pandas as pd\n",
    "\n",
    "from lonboard import Map, ScatterplotLayer, BitmapTileLayer, PointCloudLayer\n",
    "from lonboard.colormap import apply_continuous_cmap\n",
    "import httpx\n",
    "import json\n",
    "from palettable.colorbrewer.sequential import YlGnBu_7, Greens_3\n",
    "from palettable.colorbrewer.diverging import Spectral_9\n",
    "from matplotlib.colors import Normalize"
   ]
  },
  {
   "cell_type": "markdown",
   "id": "cae064e4-d351-4dde-90dc-18d6e3f68bea",
   "metadata": {},
   "source": [
    "Next, we define the path to the ALS LiDAR file in COPC format to be visualized."
   ]
  },
  {
   "cell_type": "code",
   "execution_count": 2,
   "id": "fa286094-5b28-41f9-a257-650c2f16b384",
   "metadata": {
    "tags": []
   },
   "outputs": [],
   "source": [
    "out_file = \"data/ALS_ground_copc/outputs/norm_copc/norm_copc_chunk_624600_1013000.copc.laz\""
   ]
  },
  {
   "cell_type": "markdown",
   "id": "913f3d74-7cb7-45e2-a321-09e9fae9ace7",
   "metadata": {},
   "source": [
    "### Reading the COPC file\n",
    "\n",
    "We read the COPC file using the PDAL python package. Also, we sample the number of points by a factor of 10, thus reducing the number of points for visualization to save memory. PDAL processes point cloud data by executing pipelines comprising of various operations (separated by `|` below). For more details, the readers are recommended to follow [Converting LiDAR LAS Files to Cloud-Optimized Point Clouds (COPCs)](https://guide.cloudnativegeo.org/copc/lidar-las-to-copc.html)."
   ]
  },
  {
   "cell_type": "code",
   "execution_count": 48,
   "id": "8344e336-a75b-4a44-a10b-7d357868c7cb",
   "metadata": {
    "tags": []
   },
   "outputs": [
    {
     "data": {
      "text/plain": [
       "895968"
      ]
     },
     "execution_count": 48,
     "metadata": {},
     "output_type": "execute_result"
    }
   ],
   "source": [
    "pipeline = (pdal.Reader.copc(filename=out_file) | pdal.Filter.decimation(step=10) | pdal.Filter.stats())\n",
    "pipeline.execute()"
   ]
  },
  {
   "cell_type": "markdown",
   "id": "1b39a11c-04a3-4b77-a334-3dccc78e72d5",
   "metadata": {},
   "source": [
    "### Getting the Data Values\n",
    "\n",
    "The data values from an executed pipeline are retrieved by calling the `arrays` method."
   ]
  },
  {
   "cell_type": "code",
   "execution_count": 4,
   "id": "b09e11b4-26bb-4fe1-92c9-11eedf48e85a",
   "metadata": {
    "tags": []
   },
   "outputs": [],
   "source": [
    "# Getting array values\n",
    "arr_values = pipeline.arrays"
   ]
  },
  {
   "cell_type": "markdown",
   "id": "8a46dca2-832a-49c1-b3a7-c1ec4506f603",
   "metadata": {},
   "source": [
    "### Creating Geo-dataframe"
   ]
  },
  {
   "cell_type": "markdown",
   "id": "29e00637-bfaa-4a22-a526-ed101c768531",
   "metadata": {},
   "source": [
    "Now, we will create a data frame followed by a Geo-dataframe based on the data values. Lonboard requires the vector data as Geo-dataframe for visualization."
   ]
  },
  {
   "cell_type": "code",
   "execution_count": 5,
   "id": "733b22c3-111c-4fbe-b36f-720fe3b8db18",
   "metadata": {
    "tags": []
   },
   "outputs": [],
   "source": [
    "df = pd.DataFrame(arr_values[0])"
   ]
  },
  {
   "cell_type": "code",
   "execution_count": 6,
   "id": "a96efb74-e7d5-40de-bc48-9603b4aa692d",
   "metadata": {},
   "outputs": [],
   "source": [
    "gdf = gpd.GeoDataFrame(df, geometry=gpd.points_from_xy(df.X, df.Y, z=df.Z), crs=\"32617\")"
   ]
  },
  {
   "cell_type": "markdown",
   "id": "f7a31ae5-1af1-44d9-a3c7-457efaf1ed29",
   "metadata": {},
   "source": [
    "Also, Lonboard requires the Geo-dataframe to have its Spatial Reference System (SRS) as World Geodetic System 1984 (WGS 84). So, we re-project the geo-dataframe to `EPSG 4326`, which is the unique reference code for WGS 84."
   ]
  },
  {
   "cell_type": "code",
   "execution_count": 7,
   "id": "2aee6e91-e91c-47e5-8ff7-019a8e40c9e9",
   "metadata": {
    "tags": []
   },
   "outputs": [
    {
     "data": {
      "text/html": [
       "<div>\n",
       "<style scoped>\n",
       "    .dataframe tbody tr th:only-of-type {\n",
       "        vertical-align: middle;\n",
       "    }\n",
       "\n",
       "    .dataframe tbody tr th {\n",
       "        vertical-align: top;\n",
       "    }\n",
       "\n",
       "    .dataframe thead th {\n",
       "        text-align: right;\n",
       "    }\n",
       "</style>\n",
       "<table border=\"1\" class=\"dataframe\">\n",
       "  <thead>\n",
       "    <tr style=\"text-align: right;\">\n",
       "      <th></th>\n",
       "      <th>X</th>\n",
       "      <th>Y</th>\n",
       "      <th>Z</th>\n",
       "      <th>Intensity</th>\n",
       "      <th>ReturnNumber</th>\n",
       "      <th>NumberOfReturns</th>\n",
       "      <th>ScanDirectionFlag</th>\n",
       "      <th>EdgeOfFlightLine</th>\n",
       "      <th>Classification</th>\n",
       "      <th>ScanAngleRank</th>\n",
       "      <th>UserData</th>\n",
       "      <th>PointSourceId</th>\n",
       "      <th>GpsTime</th>\n",
       "      <th>ScanChannel</th>\n",
       "      <th>ClassFlags</th>\n",
       "      <th>TargetThick</th>\n",
       "      <th>DevRatio</th>\n",
       "      <th>Zref</th>\n",
       "      <th>geometry</th>\n",
       "    </tr>\n",
       "  </thead>\n",
       "  <tbody>\n",
       "    <tr>\n",
       "      <th>0</th>\n",
       "      <td>624774.88</td>\n",
       "      <td>1013175.93</td>\n",
       "      <td>15.55</td>\n",
       "      <td>43</td>\n",
       "      <td>1</td>\n",
       "      <td>3</td>\n",
       "      <td>0</td>\n",
       "      <td>0</td>\n",
       "      <td>1</td>\n",
       "      <td>-29.742001</td>\n",
       "      <td>1</td>\n",
       "      <td>13</td>\n",
       "      <td>3.691527e+08</td>\n",
       "      <td>0</td>\n",
       "      <td>0</td>\n",
       "      <td>0.184</td>\n",
       "      <td>0.9</td>\n",
       "      <td>43.19</td>\n",
       "      <td>POINT Z (-79.86435 9.16396 15.55000)</td>\n",
       "    </tr>\n",
       "    <tr>\n",
       "      <th>1</th>\n",
       "      <td>624773.58</td>\n",
       "      <td>1013178.64</td>\n",
       "      <td>14.74</td>\n",
       "      <td>22</td>\n",
       "      <td>3</td>\n",
       "      <td>5</td>\n",
       "      <td>0</td>\n",
       "      <td>0</td>\n",
       "      <td>1</td>\n",
       "      <td>-29.658001</td>\n",
       "      <td>27</td>\n",
       "      <td>13</td>\n",
       "      <td>3.691527e+08</td>\n",
       "      <td>0</td>\n",
       "      <td>0</td>\n",
       "      <td>0.144</td>\n",
       "      <td>1.2</td>\n",
       "      <td>43.39</td>\n",
       "      <td>POINT Z (-79.86436 9.16398 14.74000)</td>\n",
       "    </tr>\n",
       "    <tr>\n",
       "      <th>2</th>\n",
       "      <td>624774.83</td>\n",
       "      <td>1013196.42</td>\n",
       "      <td>17.34</td>\n",
       "      <td>14</td>\n",
       "      <td>3</td>\n",
       "      <td>3</td>\n",
       "      <td>0</td>\n",
       "      <td>0</td>\n",
       "      <td>1</td>\n",
       "      <td>-28.865999</td>\n",
       "      <td>1</td>\n",
       "      <td>13</td>\n",
       "      <td>3.691527e+08</td>\n",
       "      <td>0</td>\n",
       "      <td>0</td>\n",
       "      <td>0.216</td>\n",
       "      <td>1.1</td>\n",
       "      <td>50.77</td>\n",
       "      <td>POINT Z (-79.86435 9.16414 17.34000)</td>\n",
       "    </tr>\n",
       "    <tr>\n",
       "      <th>3</th>\n",
       "      <td>624765.98</td>\n",
       "      <td>1013175.28</td>\n",
       "      <td>16.76</td>\n",
       "      <td>59</td>\n",
       "      <td>1</td>\n",
       "      <td>1</td>\n",
       "      <td>0</td>\n",
       "      <td>0</td>\n",
       "      <td>1</td>\n",
       "      <td>-30.167999</td>\n",
       "      <td>1</td>\n",
       "      <td>13</td>\n",
       "      <td>3.691527e+08</td>\n",
       "      <td>0</td>\n",
       "      <td>0</td>\n",
       "      <td>0.152</td>\n",
       "      <td>1.5</td>\n",
       "      <td>44.22</td>\n",
       "      <td>POINT Z (-79.86443 9.16395 16.76000)</td>\n",
       "    </tr>\n",
       "    <tr>\n",
       "      <th>4</th>\n",
       "      <td>624774.43</td>\n",
       "      <td>1013196.64</td>\n",
       "      <td>-0.01</td>\n",
       "      <td>55</td>\n",
       "      <td>3</td>\n",
       "      <td>3</td>\n",
       "      <td>0</td>\n",
       "      <td>0</td>\n",
       "      <td>2</td>\n",
       "      <td>-28.242001</td>\n",
       "      <td>1</td>\n",
       "      <td>13</td>\n",
       "      <td>3.691527e+08</td>\n",
       "      <td>0</td>\n",
       "      <td>0</td>\n",
       "      <td>0.088</td>\n",
       "      <td>0.9</td>\n",
       "      <td>33.52</td>\n",
       "      <td>POINT Z (-79.86435 9.16415 -0.01000)</td>\n",
       "    </tr>\n",
       "  </tbody>\n",
       "</table>\n",
       "</div>"
      ],
      "text/plain": [
       "           X           Y      Z  Intensity  ReturnNumber  NumberOfReturns  \\\n",
       "0  624774.88  1013175.93  15.55         43             1                3   \n",
       "1  624773.58  1013178.64  14.74         22             3                5   \n",
       "2  624774.83  1013196.42  17.34         14             3                3   \n",
       "3  624765.98  1013175.28  16.76         59             1                1   \n",
       "4  624774.43  1013196.64  -0.01         55             3                3   \n",
       "\n",
       "   ScanDirectionFlag  EdgeOfFlightLine  Classification  ScanAngleRank  \\\n",
       "0                  0                 0               1     -29.742001   \n",
       "1                  0                 0               1     -29.658001   \n",
       "2                  0                 0               1     -28.865999   \n",
       "3                  0                 0               1     -30.167999   \n",
       "4                  0                 0               2     -28.242001   \n",
       "\n",
       "   UserData  PointSourceId       GpsTime  ScanChannel  ClassFlags  \\\n",
       "0         1             13  3.691527e+08            0           0   \n",
       "1        27             13  3.691527e+08            0           0   \n",
       "2         1             13  3.691527e+08            0           0   \n",
       "3         1             13  3.691527e+08            0           0   \n",
       "4         1             13  3.691527e+08            0           0   \n",
       "\n",
       "   TargetThick  DevRatio   Zref                              geometry  \n",
       "0        0.184       0.9  43.19  POINT Z (-79.86435 9.16396 15.55000)  \n",
       "1        0.144       1.2  43.39  POINT Z (-79.86436 9.16398 14.74000)  \n",
       "2        0.216       1.1  50.77  POINT Z (-79.86435 9.16414 17.34000)  \n",
       "3        0.152       1.5  44.22  POINT Z (-79.86443 9.16395 16.76000)  \n",
       "4        0.088       0.9  33.52  POINT Z (-79.86435 9.16415 -0.01000)  "
      ]
     },
     "execution_count": 7,
     "metadata": {},
     "output_type": "execute_result"
    }
   ],
   "source": [
    "gdf_proj = gdf.to_crs(4326)\n",
    "gdf_proj.head()"
   ]
  },
  {
   "cell_type": "markdown",
   "id": "c8c6628d-ae2d-4ac6-b8f8-3dd418295150",
   "metadata": {},
   "source": [
    "In order to save memory, we delete the unrequired data frames. Also, we drop the columns which are not relevant for the visulization."
   ]
  },
  {
   "cell_type": "code",
   "execution_count": null,
   "id": "6c713e63-d6c4-40fc-a578-5c4366ec634b",
   "metadata": {
    "tags": []
   },
   "outputs": [],
   "source": [
    "# Deleting not required dataframes\n",
    "del(df)\n",
    "del(gdf)"
   ]
  },
  {
   "cell_type": "code",
   "execution_count": 50,
   "id": "05200fea-2a0f-4df6-a8ca-6e2c8be92f0a",
   "metadata": {},
   "outputs": [],
   "source": [
    "#Dropping not required columns\n",
    "gdf_proj = gdf_proj.drop(['ReturnNumber', 'NumberOfReturns', 'ScanDirectionFlag', 'EdgeOfFlightLine', 'ScanAngleRank', 'UserData', 'PointSourceId', 'GpsTime', 'Intensity', 'Classification', 'ScanChannel', 'ClassFlags', 'TargetThick', 'DevRatio', 'Zref'], axis=1)"
   ]
  },
  {
   "cell_type": "markdown",
   "id": "173c1fa1-e1f1-41d8-92ec-54545302981d",
   "metadata": {},
   "source": [
    "### Define a Point Cloud Layer\n",
    "\n",
    "We define a Point Cloud Layer based on the geo-dataframe."
   ]
  },
  {
   "cell_type": "code",
   "execution_count": 53,
   "id": "4587a1c9-d74c-4f10-8f2a-d66f94007c0f",
   "metadata": {
    "tags": []
   },
   "outputs": [],
   "source": [
    "point_layer = PointCloudLayer.from_geopandas(gdf_proj, point_size=2)"
   ]
  },
  {
   "cell_type": "markdown",
   "id": "fa7d17d8-9d9c-43b3-b08f-749b01431aba",
   "metadata": {},
   "source": [
    "### Styling Point Cloud Layer\n",
    "\n",
    "Here, we normalize the elevation values and create a color map for visualizing the point cloud layer. "
   ]
  },
  {
   "cell_type": "code",
   "execution_count": 33,
   "id": "5b46b2c6-f0bf-4d54-9aa7-37640ad3c09f",
   "metadata": {
    "tags": []
   },
   "outputs": [],
   "source": [
    "normalizer = Normalize(1, gdf_proj[\"Z\"].max(), clip=True)\n",
    "normalized_heights = normalizer(gdf_proj[\"Z\"])"
   ]
  },
  {
   "cell_type": "code",
   "execution_count": 36,
   "id": "69f9a229-c023-492c-966e-1e0951ba903b",
   "metadata": {},
   "outputs": [],
   "source": [
    "point_layer.get_color = apply_continuous_cmap(normalized_heights, Greens_3, alpha=0.6)"
   ]
  },
  {
   "cell_type": "markdown",
   "id": "1f8aea28-74a3-44cd-b7d4-6f4a88cdcd8f",
   "metadata": {},
   "source": [
    "### Reading AGB Product Layer\n",
    "\n",
    "For visualizing COGs, we use `BitmapTileLayer` which renders tiles dynamically generated by TiTiler."
   ]
  },
  {
   "cell_type": "code",
   "execution_count": 37,
   "id": "94bcac1e-a84f-4737-8aee-7b62188c62c5",
   "metadata": {
    "tags": []
   },
   "outputs": [],
   "source": [
    "titiler_endpoint = \"https://titiler.maap-project.org\""
   ]
  },
  {
   "cell_type": "code",
   "execution_count": 54,
   "id": "3c4b27ef-221d-4ce4-af0e-f0dc7a13c31e",
   "metadata": {},
   "outputs": [],
   "source": [
    "#AGB product stored locally in MAAP workspace\n",
    "agb_product_url = \"s3://maap-ops-workspace/shared/omshinde23/agbd.tif\""
   ]
  },
  {
   "cell_type": "code",
   "execution_count": 39,
   "id": "b26817d7-2288-4bd3-b32b-68380a4d271c",
   "metadata": {},
   "outputs": [],
   "source": [
    "agb_product_tile_url = \"https://titiler.maap-project.org/cog/tiles/{z}/{x}/{y}?url=s3://maap-ops-workspace/shared/omshinde23/agbd.tif&bidx=5&rescale=0,600&colormap_name=viridis\""
   ]
  },
  {
   "cell_type": "code",
   "execution_count": 40,
   "id": "e35b0a96-da86-47e5-8421-84abd1b9d0e4",
   "metadata": {},
   "outputs": [
    {
     "name": "stdout",
     "output_type": "stream",
     "text": [
      "[-79.87926821173158, 9.121956517182756, -79.81171917965493, 9.186829702218509]\n"
     ]
    }
   ],
   "source": [
    "r_agb = httpx.get(\n",
    "    f\"{titiler_endpoint}/cog/info\",\n",
    "    params = {\n",
    "        \"url\": agb_product_url,\n",
    "    }\n",
    ").json()\n",
    "\n",
    "bounds_agb = r_agb[\"bounds\"]\n",
    "print(bounds_agb)"
   ]
  },
  {
   "cell_type": "code",
   "execution_count": 41,
   "id": "dff0aadc-7c19-419a-8f28-90e60aecd7ea",
   "metadata": {},
   "outputs": [],
   "source": [
    "agb_product_layer = BitmapTileLayer(\n",
    "    data=agb_product_tile_url,\n",
    "    tile_size=148,\n",
    "    max_requests=-1,\n",
    "    min_zoom=3,\n",
    "    max_zoom=18,\n",
    "    extent=bounds_agb\n",
    ")"
   ]
  },
  {
   "cell_type": "markdown",
   "id": "ebc9aadb-ab5e-45af-bdc1-563f85c37fc3",
   "metadata": {
    "tags": []
   },
   "source": [
    "### Creating Map Visualization for AGB Layer\n",
    "\n",
    "Here, we visualize the AGB layer and point cloud layer in a single `Map` widget. The readers are recommended to use `Ctrl+Click+Drag` to change the viewing angle. "
   ]
  },
  {
   "cell_type": "code",
   "execution_count": 42,
   "id": "2af63d88-5c25-4c86-a7b3-28187d579f62",
   "metadata": {
    "tags": []
   },
   "outputs": [
    {
     "data": {
      "application/vnd.jupyter.widget-view+json": {
       "model_id": "422dd597eb6e4dcdb6c4385fcdb01e16",
       "version_major": 2,
       "version_minor": 1
      },
      "text/plain": [
       "Map(layers=[BitmapTileLayer(data='https://titiler.maap-project.org/cog/tiles/{z}/{x}/{y}?url=s3://maap-ops-wor…"
      ]
     },
     "execution_count": 42,
     "metadata": {},
     "output_type": "execute_result"
    }
   ],
   "source": [
    "m = Map([agb_product_layer, point_layer])\n",
    "m"
   ]
  },
  {
   "cell_type": "markdown",
   "id": "3ce53957-2cea-47d2-8fdd-bde0cbc2398e",
   "metadata": {},
   "source": [
    "### Reading META CHM Layer\n",
    "\n",
    "Now, we visualize the META CHM layer with the point cloud layer."
   ]
  },
  {
   "cell_type": "code",
   "execution_count": 43,
   "id": "0bf6f641-a7a5-4d3b-afa3-1df34995471c",
   "metadata": {
    "tags": []
   },
   "outputs": [],
   "source": [
    "chm_product_url = \"s3://maap-ops-workspace/shared/omshinde23/meta_chm_new.tif\""
   ]
  },
  {
   "cell_type": "code",
   "execution_count": 44,
   "id": "1a1c6c85-15a4-4907-81fe-a35faeada2a4",
   "metadata": {
    "tags": []
   },
   "outputs": [],
   "source": [
    "chm_product_tile_url = \"https://titiler.maap-project.org/cog/tiles/{z}/{x}/{y}?url=s3://maap-ops-workspace/shared/omshinde23/meta_chm_new.tif&rescale=0,60&colormap_name=viridis\""
   ]
  },
  {
   "cell_type": "code",
   "execution_count": 45,
   "id": "c967a8d4-c3a3-4db8-8230-c472c12c5dfc",
   "metadata": {
    "tags": []
   },
   "outputs": [
    {
     "name": "stdout",
     "output_type": "stream",
     "text": [
      "[-79.87929430332252, 9.122007215999078, -79.81190140986412, 9.187029513446365]\n"
     ]
    }
   ],
   "source": [
    "r_chm = httpx.get(\n",
    "    f\"{titiler_endpoint}/cog/info\",\n",
    "    params = {\n",
    "        \"url\": chm_product_url,\n",
    "    }\n",
    ").json()\n",
    "\n",
    "bounds_chm = r_chm[\"bounds\"]\n",
    "print(bounds_chm)"
   ]
  },
  {
   "cell_type": "code",
   "execution_count": 46,
   "id": "bad756e6-7f53-41ac-9794-2f42ea0a3021",
   "metadata": {
    "tags": []
   },
   "outputs": [],
   "source": [
    "chm_product_layer = BitmapTileLayer(\n",
    "    data=chm_product_tile_url,\n",
    "    tile_size=148,\n",
    "    max_requests=-1,\n",
    "    min_zoom=3,\n",
    "    max_zoom=18,\n",
    "    extent=bounds_chm\n",
    ")"
   ]
  },
  {
   "cell_type": "code",
   "execution_count": 47,
   "id": "f295328e-1c32-4b3a-8d43-e15c6cb53e28",
   "metadata": {
    "tags": []
   },
   "outputs": [
    {
     "data": {
      "application/vnd.jupyter.widget-view+json": {
       "model_id": "870654e3539c40f9b2ecc463977f4d13",
       "version_major": 2,
       "version_minor": 1
      },
      "text/plain": [
       "Map(layers=[BitmapTileLayer(data='https://titiler.maap-project.org/cog/tiles/{z}/{x}/{y}?url=s3://maap-ops-wor…"
      ]
     },
     "execution_count": 47,
     "metadata": {},
     "output_type": "execute_result"
    }
   ],
   "source": [
    "m1 = Map([chm_product_layer, point_layer])\n",
    "m1"
   ]
  }
 ],
 "metadata": {
  "kernelspec": {
   "display_name": "Python [conda env:pangeo] *",
   "language": "python",
   "name": "conda-env-pangeo-py"
  },
  "language_info": {
   "codemirror_mode": {
    "name": "ipython",
    "version": 3
   },
   "file_extension": ".py",
   "mimetype": "text/x-python",
   "name": "python",
   "nbconvert_exporter": "python",
   "pygments_lexer": "ipython3",
   "version": "3.10.13"
  }
 },
 "nbformat": 4,
 "nbformat_minor": 5
}
